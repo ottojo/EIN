{
 "cells": [
  {
   "cell_type": "markdown",
   "metadata": {},
   "source": [
    "# Aufgabe 1"
   ]
  },
  {
   "cell_type": "markdown",
   "metadata": {},
   "source": [
    "1. $\\overset{\\cdot}{u_1}(t)=(u_1(t) + x_1(t))\\cdot \\frac{1}{\\tau}$\n",
    "2. $\\overset{\\cdot}{u_2}(t)=(c_{12} \\cdot y_1(t))\\cdot \\frac{1}{\\tau}=(c_{12} \\cdot u_1(t))\\cdot \\frac{1}{\\tau}\\ \\ \\text{,da } y_j=u_j$"
   ]
  },
  {
   "cell_type": "markdown",
   "metadata": {},
   "source": [
    "# Aufgabe 2"
   ]
  },
  {
   "cell_type": "markdown",
   "metadata": {},
   "source": [
    "1. $\\overset{\\cdot}{u_1}(\\xi) \\overset{!}{=} 0 \\text{ als notwendiges Kriterium für ein} \\underset{\\xi \\in [0,30]}{\\max}u_1(\\xi) \\Rightarrow u_1(\\xi) = y_1(\\xi) = x_1(\\xi) = 1$\n",
    "2. $\\text{analog: } u_2(t) = y_2(t) \\Rightarrow \\underset{\\xi \\in [0,30]}{\\max} y_2(\\xi)=c_{12} \\cdot 1 = c_{12}$\n"
   ]
  },
  {
   "cell_type": "markdown",
   "metadata": {},
   "source": [
    "# Aufgabe 3"
   ]
  },
  {
   "cell_type": "code",
   "execution_count": 68,
   "metadata": {},
   "outputs": [],
   "source": [
    "import numpy as np\n",
    "\n",
    "def xInput(t):\n",
    "    if t < 5:\n",
    "        return 0\n",
    "    if t > 15:\n",
    "        return 0\n",
    "    return 1\n",
    "\n",
    "def lin_model(tau, weight):\n",
    "    # init\n",
    "    t_delta = 0.1\n",
    "    t_end = 30\n",
    "    length = int(t_end / t_delta)\n",
    "    u1 = np.zeros(length + 1)\n",
    "    u2 = np.zeros(length + 1)\n",
    "    u1_diff = np.zeros(length + 1)\n",
    "    u2_diff = np.zeros(length + 1)\n",
    "    time = np.zeros(length + 1)\n",
    "    \n",
    "    for t in range(0,length + 1):\n",
    "        time[t] = t_delta * t\n",
    "        # according to model\n",
    "        u1_diff[t] = (1 / tau) * (-u1[t] + xInput(t * t_delta))\n",
    "        u2_diff[t] = (1 / tau) * (-u2[t] + weight * u1[t])\n",
    "        # approximation of u1 u2 in time steps of t_delta\n",
    "        if time[t] < t_end:\n",
    "            u1[t + 1] = u1[t] + t_delta * u1_diff[t]\n",
    "            u2[t + 1] = u2[t] + t_delta * u2_diff[t]\n",
    "        \n",
    "    return time, u1_diff, u2_diff, u1, u2\n",
    "        "
   ]
  },
  {
   "cell_type": "markdown",
   "metadata": {},
   "source": [
    "# Aufgabe 4"
   ]
  },
  {
   "cell_type": "code",
   "execution_count": 69,
   "metadata": {},
   "outputs": [
    {
     "data": {
      "application/vnd.jupyter.widget-view+json": {
       "model_id": "294af92549864d8795a87bd57558a8b9",
       "version_major": 2,
       "version_minor": 0
      },
      "text/plain": [
       "interactive(children=(FloatSlider(value=1.0, description='tau:', max=5.0, min=1.0), FloatSlider(value=0.0, des…"
      ]
     },
     "metadata": {},
     "output_type": "display_data"
    },
    {
     "data": {
      "text/plain": [
       "<function __main__.plot_model(tau, weight)>"
      ]
     },
     "execution_count": 69,
     "metadata": {},
     "output_type": "execute_result"
    }
   ],
   "source": [
    "import matplotlib.pyplot as plt\n",
    "from IPython.display import display, Math, Latex\n",
    "from ipywidgets import interact\n",
    "import ipywidgets as widgets\n",
    "\n",
    "def plot_model(tau, weight):\n",
    "    time, u1_diff, u2_diff, u1, u2 = lin_model(tau, weight)\n",
    "    plt.figure(1)\n",
    "    fig, (ax1, ax2) = plt.subplots(2,1)\n",
    "    \n",
    "    # plot of u1\n",
    "    ax1.plot(time, u1, 'r', time, u1_diff, 'b')\n",
    "    ax1.legend(('$u1$', 'd$u1$/d$t$'))\n",
    "    ax1.set_title('neuron 1')\n",
    "    ax1.set_xlabel('Time')\n",
    "    ax1.set_ylabel('Intensity')\n",
    "    \n",
    "    # plot of u2\n",
    "    ax2.plot(time, u2, 'r', time, u2_diff, 'b')\n",
    "    ax2.legend(('$u2$', 'd$u2$/d$t$'))\n",
    "    ax2.set_title('neuron 2')\n",
    "    ax2.set_xlabel('Time')\n",
    "    ax2.set_ylabel('Intensity')\n",
    "    \n",
    "    fig.tight_layout(pad=0.4, w_pad=0.5, h_pad=1.0) \n",
    "\n",
    "tau_slider = widgets.FloatSlider(min = 1.0, max = 5.0, description = 'tau:')\n",
    "weight_slider = widgets.FloatSlider(min = 0, max = 10, description = 'weight:')\n",
    "interact(plot_model, tau = tau_slider, weight = weight_slider)"
   ]
  },
  {
   "cell_type": "markdown",
   "metadata": {},
   "source": [
    "# Aufgabe 5"
   ]
  },
  {
   "cell_type": "markdown",
   "metadata": {},
   "source": [
    "1. Die Neuronen werden ab $t>0$ nicht mehr durch $x(t)$ angeregt, da $x(t)=0$ für $t>0$. Biologische Analogie: Durch ausströmende Kaliumionen entlädt sich das Neuron und kehrt zum Ruhepotential zurück\n",
    "2. 1. $\\tau>1 \\Rightarrow \\overset{\\cdot}{u_1}(t)<1$\n",
    "   2. $\\tau<1 \\Rightarrow \\overset{\\cdot}{u_1}(t)>1$\n",
    "3. $\\tau:=0 \\Rightarrow u_1(t), u_2(t), x(t)$ sind linear abhängig\n",
    "4. $c_{12}$ skaliert das Maximum von $u_2(t)$ mit $\\underset{\\xi \\in [0,30]}{\\max} u_2(\\xi) = c_{12} \\cdot 1$\n",
    "5. $u_2(t)$ wird durch ein verzögerungsglied gegenüber $u_1(t)$ nach rechts verschoben"
   ]
  }
 ],
 "metadata": {
  "kernelspec": {
   "display_name": "Python 3",
   "language": "python",
   "name": "python3"
  },
  "language_info": {
   "codemirror_mode": {
    "name": "ipython",
    "version": 3
   },
   "file_extension": ".py",
   "mimetype": "text/x-python",
   "name": "python",
   "nbconvert_exporter": "python",
   "pygments_lexer": "ipython3",
   "version": "3.7.3"
  }
 },
 "nbformat": 4,
 "nbformat_minor": 2
}
