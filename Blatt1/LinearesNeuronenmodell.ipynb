{
 "cells": [
  {
   "cell_type": "markdown",
   "metadata": {},
   "source": [
    "# Aufgabe 3"
   ]
  },
  {
   "cell_type": "code",
   "execution_count": 27,
   "metadata": {},
   "outputs": [],
   "source": [
    "import numpy as np\n",
    "\n",
    "def xInput(t):\n",
    "    if t < 5:\n",
    "        return 0\n",
    "    if t > 15:\n",
    "        return 0\n",
    "    return 1\n",
    "\n",
    "def lin_model(tau, weight):\n",
    "    # init\n",
    "    t_delta = 0.1\n",
    "    t_end = 30\n",
    "    length = int(t_end / t_delta)\n",
    "    u1 = np.zeros(length + 1)\n",
    "    u2 = np.zeros(length + 1)\n",
    "    u1_diff = np.zeros(length + 1)\n",
    "    u2_diff = np.zeros(length + 1)\n",
    "    time = np.zeros(length + 1)\n",
    "    \n",
    "    for t in range(0,length + 1):\n",
    "        time[t] = t_delta * t\n",
    "        # according to model\n",
    "        u1_diff[t] = (1 / tau) * (-u1[t] + xInput(t * t_delta))\n",
    "        u2_diff[t] = (1 / tau) * (-u2[t] + weight * u1[t])\n",
    "        # approximation of u1 u2 in time steps of t_delta\n",
    "        if time[t] < t_end:\n",
    "            u1[t + 1] = u1[t] + t_delta * u1_diff[t]\n",
    "            u2[t + 1] = u2[t] + t_delta * u2_diff[t]\n",
    "        \n",
    "    return time, u1_diff, u2_diff, u1, u2\n",
    "        "
   ]
  },
  {
   "cell_type": "markdown",
   "metadata": {},
   "source": [
    "# Aufgabe 4"
   ]
  },
  {
   "cell_type": "code",
   "execution_count": 28,
   "metadata": {},
   "outputs": [
    {
     "data": {
      "application/vnd.jupyter.widget-view+json": {
       "model_id": "47115e1e4e73499e835ecdb6ed1bcbff",
       "version_major": 2,
       "version_minor": 0
      },
      "text/plain": [
       "interactive(children=(FloatSlider(value=1.0, description='tau:', max=5.0, min=1.0), FloatSlider(value=0.0, des…"
      ]
     },
     "metadata": {},
     "output_type": "display_data"
    },
    {
     "data": {
      "text/plain": [
       "<function __main__.plot_model(tau, weight)>"
      ]
     },
     "execution_count": 28,
     "metadata": {},
     "output_type": "execute_result"
    }
   ],
   "source": [
    "import matplotlib.pyplot as plt\n",
    "from IPython.display import display, Math, Latex\n",
    "from ipywidgets import interact\n",
    "import ipywidgets as widgets\n",
    "\n",
    "def plot_model(tau, weight):\n",
    "    time, u1_diff, u2_diff, u1, u2 = lin_model(tau, weight)\n",
    "    plt.figure(1)\n",
    "    fig, (ax1, ax2) = plt.subplots(2,1)\n",
    "    \n",
    "    # plot of u1\n",
    "    ax1.plot(time, u1, 'r', time, u1_diff, 'b')\n",
    "    ax1.legend(('$u1$', 'd$u1$/d$t$'))\n",
    "    ax1.set_title('neuron 1')\n",
    "    ax1.set_xlabel('Time')\n",
    "    ax1.set_ylabel('Intensity')\n",
    "    \n",
    "    # plot of u2\n",
    "    ax2.plot(time, u2, 'r', time, u2_diff, 'b')\n",
    "    ax2.legend(('$u2$', 'd$u2$/d$t$'))\n",
    "    ax2.set_title('neuron 2')\n",
    "    ax2.set_xlabel('Time')\n",
    "    ax2.set_ylabel('Intensity')\n",
    "    \n",
    "    fig.tight_layout(pad=0.4, w_pad=0.5, h_pad=1.0) \n",
    "\n",
    "tau_slider = widgets.FloatSlider(min = 1.0, max = 5.0, description = 'tau:')\n",
    "weight_slider = widgets.FloatSlider(min = 0, max = 10, description = 'weight:')\n",
    "interact(plot_model, tau = tau_slider, weight = weight_slider)"
   ]
  },
  {
   "cell_type": "code",
   "execution_count": null,
   "metadata": {},
   "outputs": [],
   "source": []
  }
 ],
 "metadata": {
  "kernelspec": {
   "display_name": "Python 3",
   "language": "python",
   "name": "python3"
  },
  "language_info": {
   "codemirror_mode": {
    "name": "ipython",
    "version": 3
   },
   "file_extension": ".py",
   "mimetype": "text/x-python",
   "name": "python",
   "nbconvert_exporter": "python",
   "pygments_lexer": "ipython3",
   "version": "3.7.3"
  }
 },
 "nbformat": 4,
 "nbformat_minor": 2
}
