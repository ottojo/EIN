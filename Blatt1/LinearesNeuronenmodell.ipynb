{
 "cells": [
  {
   "cell_type": "code",
   "execution_count": 1,
   "metadata": {
    "ExecuteTime": {
     "end_time": "2019-05-10T08:21:33.636001Z",
     "start_time": "2019-05-10T08:21:33.121055Z"
    },
    "pycharm": {
     "is_executing": false
    }
   },
   "outputs": [
    {
     "data": {
      "application/vnd.jupyter.widget-view+json": {
       "model_id": "822c61742430469ca0691cfdd3ed882c",
       "version_major": 2,
       "version_minor": 0
      },
      "text/plain": [
       "FigureCanvasNbAgg()"
      ]
     },
     "metadata": {},
     "output_type": "display_data"
    },
    {
     "data": {
      "application/vnd.jupyter.widget-view+json": {
       "model_id": "b2de3a83b8954c7cafac136ce0e177e2",
       "version_major": 2,
       "version_minor": 0
      },
      "text/plain": [
       "interactive(children=(FloatSlider(value=1.0, description='tau', max=3.0, min=-1.0), FloatSlider(value=1.0, des…"
      ]
     },
     "metadata": {},
     "output_type": "display_data"
    },
    {
     "data": {
      "text/plain": [
       "<function __main__.update(tau, weight)>"
      ]
     },
     "execution_count": 1,
     "metadata": {},
     "output_type": "execute_result"
    }
   ],
   "source": [
    "%matplotlib widget\n",
    "import numpy as np\n",
    "import seaborn as sns\n",
    "import matplotlib.pyplot as plt\n",
    "from ipywidgets import interact\n",
    "\n",
    "sns.set_style(\"whitegrid\")\n",
    "\n",
    "\n",
    "def x(t):\n",
    "    if 5 <= t <= 15:\n",
    "        return 1\n",
    "    else:\n",
    "        return 0\n",
    "\n",
    "\n",
    "def u1dot(t, u1_t, tau):\n",
    "    return (1 / tau) * (-u1_t + x(t))\n",
    "\n",
    "\n",
    "def u2dot(t, u2_t, y1_t, tau, weight):\n",
    "    return (1 / tau) * (-u2_t + weight * y1_t)\n",
    "\n",
    "\n",
    "def lin_model(tau, weight):\n",
    "    delta_t = 0.1\n",
    "    n_max = int(30 / delta_t + 1)\n",
    "    u1 = np.zeros(n_max)\n",
    "    u1_dot = np.zeros(n_max)\n",
    "    u2 = np.zeros(n_max)\n",
    "    u2_dot = np.zeros(n_max)\n",
    "    t = np.zeros(n_max)\n",
    "\n",
    "    for n in range(0, n_max):\n",
    "        t[n] = n * delta_t\n",
    "        u1_dot[n] = u1dot(n * delta_t, u1[n], tau)\n",
    "        if n < n_max - 1:\n",
    "            u1[n + 1] = u1[n] + delta_t * u1_dot[n]\n",
    "        u2_dot[n] = u2dot(n * delta_t, u2[n], u1[n], tau, weight)\n",
    "        if n < n_max - 1:\n",
    "            u2[n + 1] = u2[n] + delta_t * u2_dot[n]\n",
    "\n",
    "    return t, u1_dot, u2_dot, u1, u2\n",
    "\n",
    "\n",
    "t, u1_dot, u2_dot, u1, u2 = lin_model(1.0, 1.0)\n",
    "\n",
    "\n",
    "plt.subplot(2, 2, 1)\n",
    "plt.title(\"u₁\")\n",
    "plot_u1, = plt.plot(t, u1)\n",
    "\n",
    "plt.subplot(2, 2, 2)\n",
    "plt.title(\"u₁'\")\n",
    "plot_u1d, = plt.plot(t, u1_dot)\n",
    "\n",
    "plt.subplot(2, 2, 3)\n",
    "plt.title(\"u₂\")\n",
    "plot_u2, = plt.plot(t, u2)\n",
    "\n",
    "plt.subplot(2, 2, 4)\n",
    "plt.title(\"u₂'\")\n",
    "plot_u2d, = plt.plot(t, u2_dot)\n",
    "\n",
    "\n",
    "def update(tau, weight):\n",
    "    t, u1_dot, u2_dot, u1, u2 = lin_model(tau, weight)\n",
    "    plot_u1.set_ydata(u1)\n",
    "    plot_u1d.set_ydata(u1_dot)\n",
    "    plot_u2.set_ydata(u2)\n",
    "    plot_u2d.set_ydata(u2_dot)\n",
    "    plt.figure(1).canvas.draw()\n",
    "\n",
    "\n",
    "interact(update, tau=1.0, weight=1.0)"
   ]
  }
 ],
 "metadata": {
  "hide_input": false,
  "kernelspec": {
   "display_name": "Python 3",
   "language": "python",
   "name": "python3"
  },
  "language_info": {
   "codemirror_mode": {
    "name": "ipython",
    "version": 3
   },
   "file_extension": ".py",
   "mimetype": "text/x-python",
   "name": "python",
   "nbconvert_exporter": "python",
   "pygments_lexer": "ipython3",
   "version": "3.7.3"
  }
 },
 "nbformat": 4,
 "nbformat_minor": 2
}
