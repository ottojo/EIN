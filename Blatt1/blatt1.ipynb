{
 "cells": [
  {
   "cell_type": "markdown",
   "metadata": {},
   "source": [
    "# Aufgabe 3"
   ]
  },
  {
   "cell_type": "code",
   "execution_count": 45,
   "metadata": {},
   "outputs": [],
   "source": [
    "import numpy as np\n",
    "\n",
    "def xInput(t):\n",
    "    if t < 5:\n",
    "        return 0\n",
    "    if t > 15:\n",
    "        return 0\n",
    "    return 1\n",
    "\n",
    "def lin_model(tau, weight):\n",
    "    # init\n",
    "    t_delta = 0.1\n",
    "    t_end = 30\n",
    "    length = int(t_end / t_delta)\n",
    "    u1 = np.zeros(length + 1)\n",
    "    u2 = np.zeros(length + 1)\n",
    "    u1_diff = np.zeros(length + 1)\n",
    "    u2_diff = np.zeros(length + 1)\n",
    "    time = np.zeros(length + 1)\n",
    "    \n",
    "    for t in range(0,length + 1):\n",
    "        time[t] = t_delta * t\n",
    "        # according to model\n",
    "        u1_diff[t] = -u1[t] + xInput(t * t_delta)\n",
    "        u2_diff[t] = -u2[t] + weight * u1[t]\n",
    "        # approximation of u1 u2 in time steps of t_delta\n",
    "        if time[t] < 30:\n",
    "            u1[t + 1] = u1[t] + t_delta * u1_diff[t]\n",
    "            u2[t + 1] = u2[t] + t_delta * u2_diff[t]\n",
    "        \n",
    "    return time, u1, u2, u1_diff, u2_diff\n",
    "        "
   ]
  },
  {
   "cell_type": "code",
   "execution_count": 122,
   "metadata": {},
   "outputs": [
    {
     "data": {
      "application/vnd.jupyter.widget-view+json": {
       "model_id": "0a984f7a87a744cdad365e0761f885f9",
       "version_major": 2,
       "version_minor": 0
      },
      "text/plain": [
       "interactive(children=(FloatSlider(value=0.0, description='tau:', max=2.0, min=-2.0), FloatSlider(value=0.0, de…"
      ]
     },
     "metadata": {},
     "output_type": "display_data"
    },
    {
     "data": {
      "text/plain": [
       "<function __main__.plot_model(tau, weight)>"
      ]
     },
     "execution_count": 122,
     "metadata": {},
     "output_type": "execute_result"
    }
   ],
   "source": [
    "import matplotlib.pyplot as plt\n",
    "from IPython.display import display, Math, Latex\n",
    "from ipywidgets import interact\n",
    "import ipywidgets as widgets\n",
    "\n",
    "def plot_model(tau, weight):\n",
    "    time, u1, u2, u1_diff, u2_diff = lin_model(tau, weight)\n",
    "    plt.figure(1)\n",
    "    fig, (ax1, ax2) = plt.subplots(2,1)\n",
    "    \n",
    "    # plot of u1\n",
    "    ax1.plot(time, u1, 'r', time, u1_diff, 'b')\n",
    "    ax1.legend(('$u1$', 'd$u1$/d$t$'))\n",
    "    ax1.set_title('neuron 1')\n",
    "    ax1.set_xlabel('Time')\n",
    "    ax1.set_ylabel('Intensity')\n",
    "    \n",
    "    # plot of u2\n",
    "    ax2.plot(time, u2, 'r', time, u2_diff, 'b')\n",
    "    ax2.legend(('$u2$', 'd$u2$/d$t$'))\n",
    "    ax2.set_title('neuron 2')\n",
    "    ax2.set_xlabel('Time')\n",
    "    ax2.set_ylabel('Intensity')\n",
    "    \n",
    "    fig.tight_layout(pad=0.4, w_pad=0.5, h_pad=1.0) \n",
    "\n",
    "tau_slider = widgets.FloatSlider(min = -2, max = 2, description = 'tau:')\n",
    "weight_slider = widgets.FloatSlider(min = 0, max = 10, description = 'weight:')\n",
    "interact(plot_model, tau = tau_slider, weight = weight_slider)"
   ]
  },
  {
   "cell_type": "code",
   "execution_count": null,
   "metadata": {},
   "outputs": [],
   "source": []
  }
 ],
 "metadata": {
  "kernelspec": {
   "display_name": "Python 3",
   "language": "python",
   "name": "python3"
  },
  "language_info": {
   "codemirror_mode": {
    "name": "ipython",
    "version": 3
   },
   "file_extension": ".py",
   "mimetype": "text/x-python",
   "name": "python",
   "nbconvert_exporter": "python",
   "pygments_lexer": "ipython3",
   "version": "3.7.3"
  }
 },
 "nbformat": 4,
 "nbformat_minor": 2
}
