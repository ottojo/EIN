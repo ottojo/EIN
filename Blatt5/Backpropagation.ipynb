{
 "cells": [
  {
   "cell_type": "markdown",
   "metadata": {
    "collapsed": false
   },
   "source": [
    "# Backpropagation\n",
    "Hier wollen wir nun Backpropagation selbst implementieren... "
   ]
  },
  {
   "cell_type": "code",
   "execution_count": 6,
   "metadata": {
    "collapsed": false
   },
   "outputs": [
   ],
   "source": [
    "#%matplotlib widget\n",
    "from mpl_toolkits.mplot3d import axes3d\n",
    "import matplotlib.pyplot as plt\n",
    "import numpy as np\n",
    "np.random.seed(42)"
   ]
  },
  {
   "cell_type": "markdown",
   "metadata": {
    "collapsed": false
   },
   "source": [
    "### Funktionen"
   ]
  },
  {
   "cell_type": "code",
   "execution_count": 7,
   "metadata": {
    "collapsed": false
   },
   "outputs": [
   ],
   "source": [
    "\n",
    "def forward(inpX, w1, w2, b1, b2):\n",
    "    \"\"\"\n",
    "    Perform a forward step of the network. For the transfer function in the hidden layer, use tanh.\n",
    "\n",
    "    Parameters\n",
    "    ----------\n",
    "    inpX : data matrix\n",
    "        input matrix, shaped as: samples x dimensions\n",
    "    w1 : matrix\n",
    "        weight matrix between input and hidden neurons\n",
    "    w2 : matrix\n",
    "        weight matrix between hidden and output neurons\n",
    "    b1 : vector\n",
    "        bias vector for the hidden neurons\n",
    "    b2 : vector\n",
    "        bias vector for the output neurons\n",
    "    \"\"\"\n",
    "\n",
    "    u1 = np.dot(inpX, w1) - b1\n",
    "    y1 = np.tanh(u1)\n",
    "    return u1, y1, np.dot(y1, w2) - b2  # u1, y1, y2\n",
    "\n",
    "\n",
    "def initialize_weights(inpDim, hiddenNeurons, outDim):\n",
    "    \"\"\"\n",
    "    Initialize the weight matrix based on input Dimension, amount of hidden neurons and output dimension.\n",
    "    The range for the initial weights is given by [-.5; .5].\n",
    "\n",
    "    Parameters\n",
    "    ----------\n",
    "    inpDim : int\n",
    "        Number of input neurons\n",
    "    hiddenNeurons : int\n",
    "        Number of hidden neurons\n",
    "    outDim : int\n",
    "        Number of output neurons\n",
    "    weights : list\n",
    "        List containing the weights and biases in the following order: [w1, w2, b1, b2]\n",
    "    \"\"\"\n",
    "\n",
    "    w1 = np.random.rand(inpDim, hiddenNeurons) - np.full((inpDim, hiddenNeurons), 0.5)\n",
    "\n",
    "    w2 = np.random.rand(hiddenNeurons, outDim) - np.full((hiddenNeurons, outDim), 0.5)\n",
    "\n",
    "    b1 = np.random.rand(hiddenNeurons) - np.full(hiddenNeurons, 0.5)\n",
    "\n",
    "    b2 = np.random.rand(outDim) - np.full(outDim, 0.5)\n",
    "\n",
    "    return np.array([w1, w2, b1, b2])\n",
    "\n",
    "\n",
    "def prop_error(T, y2, w2, transDiff_u1):\n",
    "    \"\"\"\n",
    "    Calculation of the error of the network\n",
    "\n",
    "    Parameters\n",
    "    ----------\n",
    "    T : float\n",
    "        teaching signal of the current sample\n",
    "    y2 : float\n",
    "        output of the last neuron\n",
    "    w2 : data matrix\n",
    "        weight matrix between hidden and output layer\n",
    "    transDiff_u1 : vector\n",
    "        differential of the transfer function used on u1\n",
    "    \"\"\"\n",
    "\n",
    "    d2 = T - y2\n",
    "    d1 = np.multiply(np.dot(w2, d2), transDiff_u1)\n",
    "\n",
    "    return d1, d2\n",
    "\n",
    "\n",
    "def training(hiddenNeurons, lernRate, inpX, outT, epoch):\n",
    "    \"\"\"\n",
    "    Train the neural network.\n",
    "\n",
    "    Parameters\n",
    "    ----------\n",
    "    hiddenNeurons : int\n",
    "        Number of hidden Neurons\n",
    "    lernRate : float\n",
    "        Lernrate \\eta\n",
    "    inpX : data matrix\n",
    "        input data and shaped as: samples x dimensions\n",
    "    outT : vector\n",
    "        teaching signal: one dimensional vector\n",
    "    epoch : int\n",
    "        number of training epochs\n",
    "    \"\"\"\n",
    "\n",
    "    global w1, w2, b1, b2\n",
    "\n",
    "    error = np.array([])\n",
    "\n",
    "    initWeights = initialize_weights(inpX.shape[1], hiddenNeurons, 1)\n",
    "    w1 = initWeights[0]\n",
    "    w2 = initWeights[1]\n",
    "    b1 = initWeights[2]\n",
    "    b2 = initWeights[3]\n",
    "\n",
    "    for e in range(0, epoch):\n",
    "        print(\"Running epoch \" + str(e))\n",
    "        # One Epoch: Apply samples in random order\n",
    "        for x in np.random.permutation(inpX.shape[0]):\n",
    "            # print(\"    Applying sample \" + str(x) + \": \" + str(inpX[x]) + \" (T=\" + str(outT[x]) + \")\")\n",
    "\n",
    "            inX = inpX[x]\n",
    "            T = outT[x]\n",
    "\n",
    "            u1, y1, y2 = forward(inX, w1, w2, b1, b2)\n",
    "\n",
    "            fd = lambda x: 1 / (np.cosh(x) ** 2)\n",
    "            d1, d2 = prop_error(T, y2, w2, fd(u1))\n",
    "\n",
    "            w2_change = lernRate * np.outer(y1, d2)\n",
    "            w2 = w2 + w2_change\n",
    "            w1_change = lernRate * np.outer(inX, d1)\n",
    "            w1 = w1 + w1_change\n",
    "\n",
    "            b2 = b2 - np.dot(lernRate, d2)\n",
    "            b1 = b1 - np.dot(lernRate, d1)\n",
    "\n",
    "        # Store error\n",
    "        E = 0\n",
    "        for i in range(0, inpX.shape[0]):\n",
    "            _, _, y2 = forward(inpX[i], w1, w2, b1, b2)\n",
    "            E = E + np.abs(outT[i] - y2) ** 2\n",
    "\n",
    "        error = np.append(error, E)\n",
    "\n",
    "        print(\"Error is now \" + str(E))\n",
    "\n",
    "    return error\n"
   ]
  },
  {
   "cell_type": "markdown",
   "metadata": {
    "collapsed": false
   },
   "source": [
    "### Initialiserung der Parameter.\n",
    "- X und Y entsprechen dem Datensatz\n",
    "- Z ist das Lehrersignal"
   ]
  },
  {
   "cell_type": "code",
   "execution_count": 8,
   "metadata": {
    "collapsed": false,
    "scrolled": true
   },
   "outputs": [
    {
     "name": "stdout",
     "output_type": "stream",
     "text": [
      "Running epoch 0\n",
      "Error is now [668.70066669]\n",
      "Running epoch 1\n",
      "Error is now [275.42639489]\n",
      "Running epoch 2\n",
      "Error is now [267.25151652]\n",
      "Running epoch 3\n"
     ]
    },
    {
     "name": "stdout",
     "output_type": "stream",
     "text": [
      "Error is now [251.59363589]\n",
      "Running epoch 4\n",
      "Error is now [591.59492239]\n",
      "Running epoch 5\n",
      "Error is now [343.84770489]\n",
      "Running epoch 6\n",
      "Error is now [335.93431545]\n",
      "Running epoch 7\n"
     ]
    },
    {
     "name": "stdout",
     "output_type": "stream",
     "text": [
      "Error is now [207.1641282]\n",
      "Running epoch 8\n",
      "Error is now [224.98416082]\n",
      "Running epoch 9\n",
      "Error is now [349.52114398]\n",
      "Running epoch 10\n",
      "Error is now [220.23467597]\n",
      "Running epoch 11\n"
     ]
    },
    {
     "name": "stdout",
     "output_type": "stream",
     "text": [
      "Error is now [620.08564173]\n",
      "Running epoch 12\n",
      "Error is now [249.24267681]\n",
      "Running epoch 13\n",
      "Error is now [252.32251571]\n",
      "Running epoch 14\n",
      "Error is now [226.62056521]\n",
      "Running epoch 15\n"
     ]
    },
    {
     "name": "stdout",
     "output_type": "stream",
     "text": [
      "Error is now [178.26761496]\n",
      "Running epoch 16\n",
      "Error is now [268.15475131]\n",
      "Running epoch 17\n",
      "Error is now [201.79439997]\n",
      "Running epoch 18\n",
      "Error is now [285.60397591]\n",
      "Running epoch 19\n"
     ]
    },
    {
     "name": "stdout",
     "output_type": "stream",
     "text": [
      "Error is now [277.7660477]\n",
      "Running epoch 20\n",
      "Error is now [187.10955458]\n",
      "Running epoch 21\n",
      "Error is now [374.97689308]\n",
      "Running epoch 22\n",
      "Error is now [320.48316648]\n",
      "Running epoch 23\n"
     ]
    },
    {
     "name": "stdout",
     "output_type": "stream",
     "text": [
      "Error is now [191.03990591]\n",
      "Running epoch 24\n",
      "Error is now [288.69650564]\n",
      "Running epoch 25\n",
      "Error is now [204.31567933]\n",
      "Running epoch 26\n",
      "Error is now [253.92505711]\n",
      "Running epoch 27\n"
     ]
    },
    {
     "name": "stdout",
     "output_type": "stream",
     "text": [
      "Error is now [193.97329593]\n",
      "Running epoch 28\n",
      "Error is now [195.70928249]\n",
      "Running epoch 29\n",
      "Error is now [277.13238331]\n",
      "Running epoch 30\n",
      "Error is now [226.60326969]\n",
      "Running epoch 31\n"
     ]
    },
    {
     "name": "stdout",
     "output_type": "stream",
     "text": [
      "Error is now [216.12687923]\n",
      "Running epoch 32\n",
      "Error is now [191.34056272]\n",
      "Running epoch 33\n",
      "Error is now [229.97947159]\n",
      "Running epoch 34\n",
      "Error is now [195.82776622]\n",
      "Running epoch 35\n"
     ]
    },
    {
     "name": "stdout",
     "output_type": "stream",
     "text": [
      "Error is now [156.81025034]\n",
      "Running epoch 36\n",
      "Error is now [253.55740947]\n",
      "Running epoch 37\n",
      "Error is now [174.38392976]\n",
      "Running epoch 38\n",
      "Error is now [171.22161136]\n",
      "Running epoch 39\n"
     ]
    },
    {
     "name": "stdout",
     "output_type": "stream",
     "text": [
      "Error is now [468.68955271]\n",
      "Running epoch 40\n",
      "Error is now [166.33500805]\n",
      "Running epoch 41\n",
      "Error is now [269.92546123]\n",
      "Running epoch 42\n",
      "Error is now [151.1632598]\n",
      "Running epoch 43\n"
     ]
    },
    {
     "name": "stdout",
     "output_type": "stream",
     "text": [
      "Error is now [127.70150479]\n",
      "Running epoch 44\n",
      "Error is now [128.15815488]\n",
      "Running epoch 45\n",
      "Error is now [213.2077079]\n",
      "Running epoch 46\n",
      "Error is now [208.03012447]\n",
      "Running epoch 47\n"
     ]
    },
    {
     "name": "stdout",
     "output_type": "stream",
     "text": [
      "Error is now [122.33348523]\n",
      "Running epoch 48\n",
      "Error is now [120.37789748]\n",
      "Running epoch 49\n",
      "Error is now [139.44958857]\n",
      "Running epoch 50\n",
      "Error is now [157.7270292]\n",
      "Running epoch 51\n"
     ]
    },
    {
     "name": "stdout",
     "output_type": "stream",
     "text": [
      "Error is now [172.71680588]\n",
      "Running epoch 52\n",
      "Error is now [134.71145415]\n",
      "Running epoch 53\n",
      "Error is now [118.10836306]\n",
      "Running epoch 54\n",
      "Error is now [128.98166257]\n",
      "Running epoch 55\n"
     ]
    },
    {
     "name": "stdout",
     "output_type": "stream",
     "text": [
      "Error is now [321.69658675]\n",
      "Running epoch 56\n",
      "Error is now [133.87884291]\n",
      "Running epoch 57\n",
      "Error is now [193.48261056]\n",
      "Running epoch 58\n",
      "Error is now [160.99909399]\n",
      "Running epoch 59\n"
     ]
    },
    {
     "name": "stdout",
     "output_type": "stream",
     "text": [
      "Error is now [151.61681758]\n",
      "Running epoch 60\n",
      "Error is now [145.58505163]\n",
      "Running epoch 61\n",
      "Error is now [164.90694079]\n",
      "Running epoch 62\n",
      "Error is now [253.20042744]\n",
      "Running epoch 63\n"
     ]
    },
    {
     "name": "stdout",
     "output_type": "stream",
     "text": [
      "Error is now [113.31397503]\n",
      "Running epoch 64\n",
      "Error is now [125.74128555]\n",
      "Running epoch 65\n",
      "Error is now [134.90414538]\n",
      "Running epoch 66\n",
      "Error is now [129.12462977]\n",
      "Running epoch 67\n"
     ]
    },
    {
     "name": "stdout",
     "output_type": "stream",
     "text": [
      "Error is now [96.77485318]\n",
      "Running epoch 68\n",
      "Error is now [117.64871394]\n",
      "Running epoch 69\n",
      "Error is now [156.39369585]\n",
      "Running epoch 70\n",
      "Error is now [108.55127393]\n",
      "Running epoch 71\n"
     ]
    },
    {
     "name": "stdout",
     "output_type": "stream",
     "text": [
      "Error is now [177.2984655]\n",
      "Running epoch 72\n",
      "Error is now [135.07909526]\n",
      "Running epoch 73\n",
      "Error is now [183.8585824]\n",
      "Running epoch 74\n",
      "Error is now [120.43108292]\n",
      "Running epoch 75\n"
     ]
    },
    {
     "name": "stdout",
     "output_type": "stream",
     "text": [
      "Error is now [94.6853686]\n",
      "Running epoch 76\n",
      "Error is now [105.69906262]\n",
      "Running epoch 77\n",
      "Error is now [87.2261904]\n",
      "Running epoch 78\n",
      "Error is now [80.18532118]\n",
      "Running epoch 79\n"
     ]
    },
    {
     "name": "stdout",
     "output_type": "stream",
     "text": [
      "Error is now [121.63963284]\n",
      "Running epoch 80\n",
      "Error is now [94.18693303]\n",
      "Running epoch 81\n",
      "Error is now [77.93953942]\n",
      "Running epoch 82\n",
      "Error is now [81.37999916]\n",
      "Running epoch 83\n"
     ]
    },
    {
     "name": "stdout",
     "output_type": "stream",
     "text": [
      "Error is now [81.11399143]\n",
      "Running epoch 84\n",
      "Error is now [70.90418255]\n",
      "Running epoch 85\n",
      "Error is now [97.39903944]\n",
      "Running epoch 86\n",
      "Error is now [70.58764306]\n",
      "Running epoch 87\n"
     ]
    },
    {
     "name": "stdout",
     "output_type": "stream",
     "text": [
      "Error is now [125.22778257]\n",
      "Running epoch 88\n",
      "Error is now [87.10607499]\n",
      "Running epoch 89\n",
      "Error is now [108.74177274]\n",
      "Running epoch 90\n",
      "Error is now [77.00068591]\n",
      "Running epoch 91\n"
     ]
    },
    {
     "name": "stdout",
     "output_type": "stream",
     "text": [
      "Error is now [130.68483417]\n",
      "Running epoch 92\n",
      "Error is now [62.95669292]\n",
      "Running epoch 93\n",
      "Error is now [77.82249602]\n",
      "Running epoch 94\n",
      "Error is now [57.5576436]\n",
      "Running epoch 95\n"
     ]
    },
    {
     "name": "stdout",
     "output_type": "stream",
     "text": [
      "Error is now [120.09514102]\n",
      "Running epoch 96\n",
      "Error is now [137.39379029]\n",
      "Running epoch 97\n",
      "Error is now [66.0282738]\n",
      "Running epoch 98\n",
      "Error is now [54.9651976]\n",
      "Running epoch 99\n"
     ]
    },
    {
     "name": "stdout",
     "output_type": "stream",
     "text": [
      "Error is now [63.93340349]\n",
      "Running epoch 100\n",
      "Error is now [135.33099696]\n",
      "Running epoch 101\n",
      "Error is now [55.71244223]\n",
      "Running epoch 102\n",
      "Error is now [62.06232568]\n",
      "Running epoch 103\n"
     ]
    },
    {
     "name": "stdout",
     "output_type": "stream",
     "text": [
      "Error is now [49.44229214]\n",
      "Running epoch 104\n",
      "Error is now [63.21811937]\n",
      "Running epoch 105\n",
      "Error is now [61.01104799]\n",
      "Running epoch 106\n",
      "Error is now [87.78129809]\n",
      "Running epoch 107\n"
     ]
    },
    {
     "name": "stdout",
     "output_type": "stream",
     "text": [
      "Error is now [65.20690697]\n",
      "Running epoch 108\n",
      "Error is now [84.43437627]\n",
      "Running epoch 109\n",
      "Error is now [81.64977248]\n",
      "Running epoch 110\n",
      "Error is now [102.12289174]\n",
      "Running epoch 111\n"
     ]
    },
    {
     "name": "stdout",
     "output_type": "stream",
     "text": [
      "Error is now [114.76523037]\n",
      "Running epoch 112\n",
      "Error is now [69.3402894]\n",
      "Running epoch 113\n",
      "Error is now [58.53775895]\n",
      "Running epoch 114\n",
      "Error is now [57.86578085]\n",
      "Running epoch 115\n"
     ]
    },
    {
     "name": "stdout",
     "output_type": "stream",
     "text": [
      "Error is now [74.8555941]\n",
      "Running epoch 116\n",
      "Error is now [55.53463116]\n",
      "Running epoch 117\n",
      "Error is now [81.47637337]\n",
      "Running epoch 118\n",
      "Error is now [67.86331931]\n",
      "Running epoch 119\n"
     ]
    },
    {
     "name": "stdout",
     "output_type": "stream",
     "text": [
      "Error is now [87.25309344]\n",
      "Running epoch 120\n",
      "Error is now [61.99627595]\n",
      "Running epoch 121\n",
      "Error is now [39.75793068]\n",
      "Running epoch 122\n",
      "Error is now [49.40360866]\n",
      "Running epoch 123\n"
     ]
    },
    {
     "name": "stdout",
     "output_type": "stream",
     "text": [
      "Error is now [76.53821199]\n",
      "Running epoch 124\n",
      "Error is now [47.84132948]\n",
      "Running epoch 125\n",
      "Error is now [54.38593083]\n",
      "Running epoch 126\n",
      "Error is now [62.17535825]\n",
      "Running epoch 127\n"
     ]
    },
    {
     "name": "stdout",
     "output_type": "stream",
     "text": [
      "Error is now [92.58653608]\n",
      "Running epoch 128\n",
      "Error is now [61.71631052]\n",
      "Running epoch 129\n",
      "Error is now [52.19506871]\n",
      "Running epoch 130\n",
      "Error is now [49.23449948]\n",
      "Running epoch 131\n"
     ]
    },
    {
     "name": "stdout",
     "output_type": "stream",
     "text": [
      "Error is now [113.01857086]\n",
      "Running epoch 132\n",
      "Error is now [35.48814781]\n",
      "Running epoch 133\n",
      "Error is now [90.38625663]\n",
      "Running epoch 134\n",
      "Error is now [59.02234688]\n",
      "Running epoch 135\n"
     ]
    },
    {
     "name": "stdout",
     "output_type": "stream",
     "text": [
      "Error is now [70.4921738]\n",
      "Running epoch 136\n",
      "Error is now [44.2251678]\n",
      "Running epoch 137\n",
      "Error is now [55.98972602]\n",
      "Running epoch 138\n",
      "Error is now [70.46349039]\n",
      "Running epoch 139\n"
     ]
    },
    {
     "name": "stdout",
     "output_type": "stream",
     "text": [
      "Error is now [36.81143101]\n",
      "Running epoch 140\n",
      "Error is now [56.28492714]\n",
      "Running epoch 141\n",
      "Error is now [37.6394368]\n",
      "Running epoch 142\n",
      "Error is now [38.57522593]\n",
      "Running epoch 143\n"
     ]
    },
    {
     "name": "stdout",
     "output_type": "stream",
     "text": [
      "Error is now [35.60161635]\n",
      "Running epoch 144\n",
      "Error is now [36.51561084]\n",
      "Running epoch 145\n",
      "Error is now [58.96147837]\n",
      "Running epoch 146\n",
      "Error is now [81.98574118]\n",
      "Running epoch 147\n"
     ]
    },
    {
     "name": "stdout",
     "output_type": "stream",
     "text": [
      "Error is now [45.45232791]\n",
      "Running epoch 148\n",
      "Error is now [39.64258284]\n",
      "Running epoch 149\n",
      "Error is now [53.53165469]\n",
      "Running epoch 150\n",
      "Error is now [46.16989352]\n",
      "Running epoch 151\n"
     ]
    },
    {
     "name": "stdout",
     "output_type": "stream",
     "text": [
      "Error is now [33.22322601]\n",
      "Running epoch 152\n",
      "Error is now [36.19512483]\n",
      "Running epoch 153\n",
      "Error is now [26.34221954]\n",
      "Running epoch 154\n",
      "Error is now [86.08936535]\n",
      "Running epoch 155\n"
     ]
    },
    {
     "name": "stdout",
     "output_type": "stream",
     "text": [
      "Error is now [35.60028705]\n",
      "Running epoch 156\n",
      "Error is now [35.50149214]\n",
      "Running epoch 157\n",
      "Error is now [37.51707985]\n",
      "Running epoch 158\n",
      "Error is now [53.23701083]\n",
      "Running epoch 159\n"
     ]
    },
    {
     "name": "stdout",
     "output_type": "stream",
     "text": [
      "Error is now [31.38139251]\n",
      "Running epoch 160\n",
      "Error is now [47.31403784]\n",
      "Running epoch 161\n",
      "Error is now [41.08946882]\n",
      "Running epoch 162\n",
      "Error is now [53.43681412]\n",
      "Running epoch 163\n"
     ]
    },
    {
     "name": "stdout",
     "output_type": "stream",
     "text": [
      "Error is now [24.87019706]\n",
      "Running epoch 164\n",
      "Error is now [40.25341548]\n",
      "Running epoch 165\n",
      "Error is now [35.47362117]\n",
      "Running epoch 166\n",
      "Error is now [31.33160322]\n",
      "Running epoch 167\n"
     ]
    },
    {
     "name": "stdout",
     "output_type": "stream",
     "text": [
      "Error is now [35.14906842]\n",
      "Running epoch 168\n",
      "Error is now [28.19057432]\n",
      "Running epoch 169\n",
      "Error is now [44.85896213]\n",
      "Running epoch 170\n",
      "Error is now [28.19585718]\n",
      "Running epoch 171\n"
     ]
    },
    {
     "name": "stdout",
     "output_type": "stream",
     "text": [
      "Error is now [26.34553836]\n",
      "Running epoch 172\n",
      "Error is now [28.58152516]\n",
      "Running epoch 173\n",
      "Error is now [21.62080579]\n",
      "Running epoch 174\n",
      "Error is now [26.2986773]\n",
      "Running epoch 175\n"
     ]
    },
    {
     "name": "stdout",
     "output_type": "stream",
     "text": [
      "Error is now [35.73276512]\n",
      "Running epoch 176\n",
      "Error is now [46.25939069]\n",
      "Running epoch 177\n",
      "Error is now [30.34306976]\n",
      "Running epoch 178\n",
      "Error is now [34.25232825]\n",
      "Running epoch 179\n"
     ]
    },
    {
     "name": "stdout",
     "output_type": "stream",
     "text": [
      "Error is now [22.17053737]\n",
      "Running epoch 180\n",
      "Error is now [43.04031951]\n",
      "Running epoch 181\n",
      "Error is now [29.01997428]\n",
      "Running epoch 182\n",
      "Error is now [23.47308474]\n",
      "Running epoch 183\n"
     ]
    },
    {
     "name": "stdout",
     "output_type": "stream",
     "text": [
      "Error is now [27.37664155]\n",
      "Running epoch 184\n",
      "Error is now [33.57319819]\n",
      "Running epoch 185\n",
      "Error is now [26.3732747]\n",
      "Running epoch 186\n",
      "Error is now [24.39424572]\n",
      "Running epoch 187\n"
     ]
    },
    {
     "name": "stdout",
     "output_type": "stream",
     "text": [
      "Error is now [25.5995493]\n",
      "Running epoch 188\n",
      "Error is now [30.28406836]\n",
      "Running epoch 189\n",
      "Error is now [28.98643772]\n",
      "Running epoch 190\n",
      "Error is now [28.36409777]\n",
      "Running epoch 191\n"
     ]
    },
    {
     "name": "stdout",
     "output_type": "stream",
     "text": [
      "Error is now [25.71488793]\n",
      "Running epoch 192\n",
      "Error is now [26.32105786]\n",
      "Running epoch 193\n",
      "Error is now [40.85494549]\n",
      "Running epoch 194\n",
      "Error is now [19.03456816]\n",
      "Running epoch 195\n"
     ]
    },
    {
     "name": "stdout",
     "output_type": "stream",
     "text": [
      "Error is now [18.50830091]\n",
      "Running epoch 196\n",
      "Error is now [25.55370063]\n",
      "Running epoch 197\n",
      "Error is now [20.89900767]\n",
      "Running epoch 198\n",
      "Error is now [21.83279943]\n",
      "Running epoch 199\n"
     ]
    },
    {
     "name": "stdout",
     "output_type": "stream",
     "text": [
      "Error is now [30.28532746]\n",
      "Running epoch 200\n",
      "Error is now [24.09317161]\n",
      "Running epoch 201\n",
      "Error is now [34.19311688]\n",
      "Running epoch 202\n",
      "Error is now [21.38158417]\n",
      "Running epoch 203\n"
     ]
    },
    {
     "name": "stdout",
     "output_type": "stream",
     "text": [
      "Error is now [31.90159135]\n",
      "Running epoch 204\n",
      "Error is now [45.75304524]\n",
      "Running epoch 205\n",
      "Error is now [48.98525392]\n",
      "Running epoch 206\n",
      "Error is now [18.54605816]\n",
      "Running epoch 207\n"
     ]
    },
    {
     "name": "stdout",
     "output_type": "stream",
     "text": [
      "Error is now [17.28995569]\n",
      "Running epoch 208\n",
      "Error is now [15.49680399]\n",
      "Running epoch 209\n",
      "Error is now [20.28950711]\n",
      "Running epoch 210\n",
      "Error is now [17.68004045]\n",
      "Running epoch 211\n"
     ]
    },
    {
     "name": "stdout",
     "output_type": "stream",
     "text": [
      "Error is now [24.64248689]\n",
      "Running epoch 212\n",
      "Error is now [19.82489291]\n",
      "Running epoch 213\n",
      "Error is now [44.848103]\n",
      "Running epoch 214\n",
      "Error is now [20.10606638]\n",
      "Running epoch 215\n"
     ]
    },
    {
     "name": "stdout",
     "output_type": "stream",
     "text": [
      "Error is now [17.12354847]\n",
      "Running epoch 216\n",
      "Error is now [32.86608636]\n",
      "Running epoch 217\n",
      "Error is now [30.76128715]\n",
      "Running epoch 218\n",
      "Error is now [15.67835486]\n",
      "Running epoch 219\n"
     ]
    },
    {
     "name": "stdout",
     "output_type": "stream",
     "text": [
      "Error is now [37.73270336]\n",
      "Running epoch 220\n",
      "Error is now [23.99746247]\n",
      "Running epoch 221\n",
      "Error is now [16.45332038]\n",
      "Running epoch 222\n",
      "Error is now [17.93214549]\n",
      "Running epoch 223\n"
     ]
    },
    {
     "name": "stdout",
     "output_type": "stream",
     "text": [
      "Error is now [16.68741006]\n",
      "Running epoch 224\n",
      "Error is now [67.16590162]\n",
      "Running epoch 225\n",
      "Error is now [17.41985873]\n",
      "Running epoch 226\n",
      "Error is now [22.36444737]\n",
      "Running epoch 227\n"
     ]
    },
    {
     "name": "stdout",
     "output_type": "stream",
     "text": [
      "Error is now [16.92896418]\n",
      "Running epoch 228\n",
      "Error is now [19.86464828]\n",
      "Running epoch 229\n",
      "Error is now [15.31642602]\n",
      "Running epoch 230\n",
      "Error is now [20.01675153]\n",
      "Running epoch 231\n"
     ]
    },
    {
     "name": "stdout",
     "output_type": "stream",
     "text": [
      "Error is now [16.03587435]\n",
      "Running epoch 232\n",
      "Error is now [15.95597562]\n",
      "Running epoch 233\n",
      "Error is now [25.820879]\n",
      "Running epoch 234\n",
      "Error is now [19.34247725]\n",
      "Running epoch 235\n"
     ]
    },
    {
     "name": "stdout",
     "output_type": "stream",
     "text": [
      "Error is now [16.16763214]\n",
      "Running epoch 236\n",
      "Error is now [15.06057419]\n",
      "Running epoch 237\n",
      "Error is now [17.48697947]\n",
      "Running epoch 238\n",
      "Error is now [22.19766155]\n",
      "Running epoch 239\n"
     ]
    },
    {
     "name": "stdout",
     "output_type": "stream",
     "text": [
      "Error is now [14.41689178]\n",
      "Running epoch 240\n",
      "Error is now [15.51345833]\n",
      "Running epoch 241\n",
      "Error is now [11.39330189]\n",
      "Running epoch 242\n",
      "Error is now [12.68095515]\n",
      "Running epoch 243\n"
     ]
    },
    {
     "name": "stdout",
     "output_type": "stream",
     "text": [
      "Error is now [13.4827128]\n",
      "Running epoch 244\n",
      "Error is now [27.45957054]\n",
      "Running epoch 245\n",
      "Error is now [14.53674119]\n",
      "Running epoch 246\n",
      "Error is now [11.01414717]\n",
      "Running epoch 247\n"
     ]
    },
    {
     "name": "stdout",
     "output_type": "stream",
     "text": [
      "Error is now [20.32792409]\n",
      "Running epoch 248\n",
      "Error is now [21.34276762]\n",
      "Running epoch 249\n",
      "Error is now [20.92542484]\n",
      "Running epoch 250\n",
      "Error is now [23.30767916]\n",
      "Running epoch 251\n"
     ]
    },
    {
     "name": "stdout",
     "output_type": "stream",
     "text": [
      "Error is now [19.87715984]\n",
      "Running epoch 252\n",
      "Error is now [21.65996197]\n",
      "Running epoch 253\n",
      "Error is now [11.36832122]\n",
      "Running epoch 254\n",
      "Error is now [17.37192004]\n",
      "Running epoch 255\n"
     ]
    },
    {
     "name": "stdout",
     "output_type": "stream",
     "text": [
      "Error is now [28.87992906]\n",
      "Running epoch 256\n",
      "Error is now [16.29318167]\n",
      "Running epoch 257\n",
      "Error is now [13.75724]\n",
      "Running epoch 258\n",
      "Error is now [18.55009677]\n",
      "Running epoch 259\n"
     ]
    },
    {
     "name": "stdout",
     "output_type": "stream",
     "text": [
      "Error is now [12.25902068]\n",
      "Running epoch 260\n",
      "Error is now [12.47263396]\n",
      "Running epoch 261\n",
      "Error is now [15.15532483]\n",
      "Running epoch 262\n",
      "Error is now [14.61740382]\n",
      "Running epoch 263\n"
     ]
    },
    {
     "name": "stdout",
     "output_type": "stream",
     "text": [
      "Error is now [16.68818196]\n",
      "Running epoch 264\n",
      "Error is now [18.51642513]\n",
      "Running epoch 265\n",
      "Error is now [18.21058595]\n",
      "Running epoch 266\n",
      "Error is now [15.75676007]\n",
      "Running epoch 267\n"
     ]
    },
    {
     "name": "stdout",
     "output_type": "stream",
     "text": [
      "Error is now [17.44875809]\n",
      "Running epoch 268\n",
      "Error is now [13.57626749]\n",
      "Running epoch 269\n",
      "Error is now [10.2070128]\n",
      "Running epoch 270\n",
      "Error is now [18.43110941]\n",
      "Running epoch 271\n"
     ]
    },
    {
     "name": "stdout",
     "output_type": "stream",
     "text": [
      "Error is now [13.27166023]\n",
      "Running epoch 272\n",
      "Error is now [18.6620344]\n",
      "Running epoch 273\n",
      "Error is now [15.58322492]\n",
      "Running epoch 274\n",
      "Error is now [8.97762488]\n",
      "Running epoch 275\n"
     ]
    },
    {
     "name": "stdout",
     "output_type": "stream",
     "text": [
      "Error is now [12.01577724]\n",
      "Running epoch 276\n",
      "Error is now [11.33242691]\n",
      "Running epoch 277\n",
      "Error is now [16.42985826]\n",
      "Running epoch 278\n",
      "Error is now [14.86637166]\n",
      "Running epoch 279\n"
     ]
    },
    {
     "name": "stdout",
     "output_type": "stream",
     "text": [
      "Error is now [9.55012812]\n",
      "Running epoch 280\n",
      "Error is now [9.87511729]\n",
      "Running epoch 281\n",
      "Error is now [13.39625886]\n",
      "Running epoch 282\n",
      "Error is now [14.19948906]\n",
      "Running epoch 283\n"
     ]
    },
    {
     "name": "stdout",
     "output_type": "stream",
     "text": [
      "Error is now [16.69066773]\n",
      "Running epoch 284\n",
      "Error is now [10.23297154]\n",
      "Running epoch 285\n",
      "Error is now [11.53273888]\n",
      "Running epoch 286\n",
      "Error is now [11.45957556]\n",
      "Running epoch 287\n"
     ]
    },
    {
     "name": "stdout",
     "output_type": "stream",
     "text": [
      "Error is now [12.01255939]\n",
      "Running epoch 288\n",
      "Error is now [13.68575339]\n",
      "Running epoch 289\n",
      "Error is now [15.45861064]\n",
      "Running epoch 290\n",
      "Error is now [8.3131224]\n",
      "Running epoch 291\n"
     ]
    },
    {
     "name": "stdout",
     "output_type": "stream",
     "text": [
      "Error is now [11.84990096]\n",
      "Running epoch 292\n",
      "Error is now [11.0503584]\n",
      "Running epoch 293\n",
      "Error is now [13.31157435]\n",
      "Running epoch 294\n",
      "Error is now [8.8240139]\n",
      "Running epoch 295\n"
     ]
    },
    {
     "name": "stdout",
     "output_type": "stream",
     "text": [
      "Error is now [13.74295362]\n",
      "Running epoch 296\n",
      "Error is now [19.84472551]\n",
      "Running epoch 297\n",
      "Error is now [10.36574566]\n",
      "Running epoch 298\n",
      "Error is now [9.01142033]\n",
      "Running epoch 299\n"
     ]
    },
    {
     "name": "stdout",
     "output_type": "stream",
     "text": [
      "Error is now [19.11003503]\n",
      "Running epoch 300\n",
      "Error is now [11.56162887]\n",
      "Running epoch 301\n",
      "Error is now [10.86222475]\n",
      "Running epoch 302\n",
      "Error is now [9.85077098]\n",
      "Running epoch 303\n"
     ]
    },
    {
     "name": "stdout",
     "output_type": "stream",
     "text": [
      "Error is now [8.42840157]\n",
      "Running epoch 304\n",
      "Error is now [13.05862742]\n",
      "Running epoch 305\n",
      "Error is now [14.26319936]\n",
      "Running epoch 306\n",
      "Error is now [11.04904181]\n",
      "Running epoch 307\n"
     ]
    },
    {
     "name": "stdout",
     "output_type": "stream",
     "text": [
      "Error is now [10.92239489]\n",
      "Running epoch 308\n",
      "Error is now [7.40311573]\n",
      "Running epoch 309\n",
      "Error is now [7.9816172]\n",
      "Running epoch 310\n",
      "Error is now [7.69715821]\n",
      "Running epoch 311\n"
     ]
    },
    {
     "name": "stdout",
     "output_type": "stream",
     "text": [
      "Error is now [13.80524356]\n",
      "Running epoch 312\n",
      "Error is now [7.45242143]\n",
      "Running epoch 313\n",
      "Error is now [6.89472075]\n",
      "Running epoch 314\n",
      "Error is now [9.47081194]\n",
      "Running epoch 315\n"
     ]
    },
    {
     "name": "stdout",
     "output_type": "stream",
     "text": [
      "Error is now [9.37405247]\n",
      "Running epoch 316\n",
      "Error is now [10.2834366]\n",
      "Running epoch 317\n",
      "Error is now [7.65628058]\n",
      "Running epoch 318\n",
      "Error is now [8.74557565]\n",
      "Running epoch 319\n"
     ]
    },
    {
     "name": "stdout",
     "output_type": "stream",
     "text": [
      "Error is now [16.94026463]\n",
      "Running epoch 320\n",
      "Error is now [12.02893338]\n",
      "Running epoch 321\n",
      "Error is now [9.17723256]\n",
      "Running epoch 322\n",
      "Error is now [16.67005964]\n",
      "Running epoch 323\n"
     ]
    },
    {
     "name": "stdout",
     "output_type": "stream",
     "text": [
      "Error is now [10.47951153]\n",
      "Running epoch 324\n",
      "Error is now [8.99530544]\n",
      "Running epoch 325\n",
      "Error is now [12.34347283]\n",
      "Running epoch 326\n",
      "Error is now [8.25434169]\n",
      "Running epoch 327\n"
     ]
    },
    {
     "name": "stdout",
     "output_type": "stream",
     "text": [
      "Error is now [6.22052806]\n",
      "Running epoch 328\n",
      "Error is now [8.63983408]\n",
      "Running epoch 329\n",
      "Error is now [14.66660017]\n",
      "Running epoch 330\n",
      "Error is now [7.78212559]\n",
      "Running epoch 331\n"
     ]
    },
    {
     "name": "stdout",
     "output_type": "stream",
     "text": [
      "Error is now [6.86289887]\n",
      "Running epoch 332\n",
      "Error is now [6.93111207]\n",
      "Running epoch 333\n",
      "Error is now [8.20289627]\n",
      "Running epoch 334\n",
      "Error is now [7.67368204]\n",
      "Running epoch 335\n"
     ]
    },
    {
     "name": "stdout",
     "output_type": "stream",
     "text": [
      "Error is now [7.4226012]\n",
      "Running epoch 336\n",
      "Error is now [7.60499272]\n",
      "Running epoch 337\n",
      "Error is now [9.48746333]\n",
      "Running epoch 338\n",
      "Error is now [6.4915083]\n",
      "Running epoch 339\n"
     ]
    },
    {
     "name": "stdout",
     "output_type": "stream",
     "text": [
      "Error is now [10.94041765]\n",
      "Running epoch 340\n",
      "Error is now [23.95699967]\n",
      "Running epoch 341\n",
      "Error is now [6.53479183]\n",
      "Running epoch 342\n",
      "Error is now [7.15328847]\n",
      "Running epoch 343\n"
     ]
    },
    {
     "name": "stdout",
     "output_type": "stream",
     "text": [
      "Error is now [9.80099048]\n",
      "Running epoch 344\n",
      "Error is now [9.05988001]\n",
      "Running epoch 345\n",
      "Error is now [8.8398293]\n",
      "Running epoch 346\n",
      "Error is now [15.34561731]\n",
      "Running epoch 347\n"
     ]
    },
    {
     "name": "stdout",
     "output_type": "stream",
     "text": [
      "Error is now [8.41556771]\n",
      "Running epoch 348\n",
      "Error is now [9.87062071]\n",
      "Running epoch 349\n",
      "Error is now [7.07064245]\n",
      "Running epoch 350\n",
      "Error is now [10.93609939]\n",
      "Running epoch 351\n"
     ]
    },
    {
     "name": "stdout",
     "output_type": "stream",
     "text": [
      "Error is now [9.72176832]\n",
      "Running epoch 352\n",
      "Error is now [15.12630177]\n",
      "Running epoch 353\n",
      "Error is now [10.07220647]\n",
      "Running epoch 354\n",
      "Error is now [7.44403689]\n",
      "Running epoch 355\n"
     ]
    },
    {
     "name": "stdout",
     "output_type": "stream",
     "text": [
      "Error is now [7.98736385]\n",
      "Running epoch 356\n",
      "Error is now [10.27252806]\n",
      "Running epoch 357\n",
      "Error is now [10.30149395]\n",
      "Running epoch 358\n",
      "Error is now [21.95206988]\n",
      "Running epoch 359\n"
     ]
    },
    {
     "name": "stdout",
     "output_type": "stream",
     "text": [
      "Error is now [10.77794792]\n",
      "Running epoch 360\n",
      "Error is now [9.67408468]\n",
      "Running epoch 361\n",
      "Error is now [8.16051023]\n",
      "Running epoch 362\n",
      "Error is now [6.5067541]\n",
      "Running epoch 363\n"
     ]
    },
    {
     "name": "stdout",
     "output_type": "stream",
     "text": [
      "Error is now [6.86313407]\n",
      "Running epoch 364\n",
      "Error is now [7.95791858]\n",
      "Running epoch 365\n",
      "Error is now [10.35115074]\n",
      "Running epoch 366\n",
      "Error is now [20.55858247]\n",
      "Running epoch 367\n"
     ]
    },
    {
     "name": "stdout",
     "output_type": "stream",
     "text": [
      "Error is now [6.70225781]\n",
      "Running epoch 368\n",
      "Error is now [9.40384702]\n",
      "Running epoch 369\n",
      "Error is now [10.90656945]\n",
      "Running epoch 370\n",
      "Error is now [6.35883319]\n",
      "Running epoch 371\n"
     ]
    },
    {
     "name": "stdout",
     "output_type": "stream",
     "text": [
      "Error is now [30.05678436]\n",
      "Running epoch 372\n",
      "Error is now [6.57362074]\n",
      "Running epoch 373\n",
      "Error is now [12.27538]\n",
      "Running epoch 374\n",
      "Error is now [8.31298952]\n",
      "Running epoch 375\n"
     ]
    },
    {
     "name": "stdout",
     "output_type": "stream",
     "text": [
      "Error is now [6.73015077]\n",
      "Running epoch 376\n",
      "Error is now [6.68904112]\n",
      "Running epoch 377\n",
      "Error is now [9.04408662]\n",
      "Running epoch 378\n",
      "Error is now [7.41275695]\n",
      "Running epoch 379\n"
     ]
    },
    {
     "name": "stdout",
     "output_type": "stream",
     "text": [
      "Error is now [6.02748876]\n",
      "Running epoch 380\n",
      "Error is now [13.07191081]\n",
      "Running epoch 381\n",
      "Error is now [9.01848912]\n",
      "Running epoch 382\n",
      "Error is now [8.23410429]\n",
      "Running epoch 383\n"
     ]
    },
    {
     "name": "stdout",
     "output_type": "stream",
     "text": [
      "Error is now [8.39988591]\n",
      "Running epoch 384\n",
      "Error is now [7.15139661]\n",
      "Running epoch 385\n",
      "Error is now [12.82078633]\n",
      "Running epoch 386\n",
      "Error is now [5.68668034]\n",
      "Running epoch 387\n"
     ]
    },
    {
     "name": "stdout",
     "output_type": "stream",
     "text": [
      "Error is now [10.40611748]\n",
      "Running epoch 388\n",
      "Error is now [10.3653087]\n",
      "Running epoch 389\n",
      "Error is now [8.27522957]\n",
      "Running epoch 390\n",
      "Error is now [7.65027035]\n",
      "Running epoch 391\n"
     ]
    },
    {
     "name": "stdout",
     "output_type": "stream",
     "text": [
      "Error is now [7.80756949]\n",
      "Running epoch 392\n",
      "Error is now [12.51632074]\n",
      "Running epoch 393\n",
      "Error is now [9.20284571]\n",
      "Running epoch 394\n",
      "Error is now [18.48891736]\n",
      "Running epoch 395\n"
     ]
    },
    {
     "name": "stdout",
     "output_type": "stream",
     "text": [
      "Error is now [11.28348632]\n",
      "Running epoch 396\n",
      "Error is now [7.67695472]\n",
      "Running epoch 397\n",
      "Error is now [7.99247498]\n",
      "Running epoch 398\n",
      "Error is now [7.72632403]\n",
      "Running epoch 399\n"
     ]
    },
    {
     "name": "stdout",
     "output_type": "stream",
     "text": [
      "Error is now [10.21686674]\n",
      "Running epoch 400\n",
      "Error is now [7.71315363]\n",
      "Running epoch 401\n",
      "Error is now [9.46558745]\n",
      "Running epoch 402\n",
      "Error is now [5.46984329]\n",
      "Running epoch 403\n",
      "Error is now [8.94758422]\n",
      "Running epoch 404\n"
     ]
    },
    {
     "name": "stdout",
     "output_type": "stream",
     "text": [
      "Error is now [12.6631504]\n",
      "Running epoch 405\n",
      "Error is now [12.91816195]\n",
      "Running epoch 406\n",
      "Error is now [7.91768969]\n",
      "Running epoch 407\n",
      "Error is now [7.08071222]\n",
      "Running epoch 408\n"
     ]
    },
    {
     "name": "stdout",
     "output_type": "stream",
     "text": [
      "Error is now [10.26878131]\n",
      "Running epoch 409\n",
      "Error is now [5.93418648]\n",
      "Running epoch 410\n",
      "Error is now [7.5591858]\n",
      "Running epoch 411\n",
      "Error is now [6.99716107]\n",
      "Running epoch 412\n"
     ]
    },
    {
     "name": "stdout",
     "output_type": "stream",
     "text": [
      "Error is now [8.65483288]\n",
      "Running epoch 413\n",
      "Error is now [7.15536644]\n",
      "Running epoch 414\n",
      "Error is now [7.39126835]\n",
      "Running epoch 415\n",
      "Error is now [6.25459471]\n",
      "Running epoch 416\n"
     ]
    },
    {
     "name": "stdout",
     "output_type": "stream",
     "text": [
      "Error is now [6.4065482]\n",
      "Running epoch 417\n",
      "Error is now [7.22917237]\n",
      "Running epoch 418\n",
      "Error is now [6.79939774]\n",
      "Running epoch 419\n",
      "Error is now [6.02872519]\n",
      "Running epoch 420\n"
     ]
    },
    {
     "name": "stdout",
     "output_type": "stream",
     "text": [
      "Error is now [6.23816029]\n",
      "Running epoch 421\n",
      "Error is now [7.81354153]\n",
      "Running epoch 422\n",
      "Error is now [10.58687064]\n",
      "Running epoch 423\n",
      "Error is now [6.3876168]\n",
      "Running epoch 424\n"
     ]
    },
    {
     "name": "stdout",
     "output_type": "stream",
     "text": [
      "Error is now [9.24297984]\n",
      "Running epoch 425\n",
      "Error is now [5.67288287]\n",
      "Running epoch 426\n",
      "Error is now [8.12152735]\n",
      "Running epoch 427\n",
      "Error is now [5.65361398]\n",
      "Running epoch 428\n"
     ]
    },
    {
     "name": "stdout",
     "output_type": "stream",
     "text": [
      "Error is now [11.47612218]\n",
      "Running epoch 429\n",
      "Error is now [5.73310983]\n",
      "Running epoch 430\n",
      "Error is now [7.65666943]\n",
      "Running epoch 431\n",
      "Error is now [10.94156461]\n",
      "Running epoch 432\n"
     ]
    },
    {
     "name": "stdout",
     "output_type": "stream",
     "text": [
      "Error is now [5.55033278]\n",
      "Running epoch 433\n",
      "Error is now [7.86426703]\n",
      "Running epoch 434\n",
      "Error is now [7.7672334]\n",
      "Running epoch 435\n",
      "Error is now [7.14541961]\n",
      "Running epoch 436\n"
     ]
    },
    {
     "name": "stdout",
     "output_type": "stream",
     "text": [
      "Error is now [5.80620069]\n",
      "Running epoch 437\n",
      "Error is now [6.06114265]\n",
      "Running epoch 438\n",
      "Error is now [5.812097]\n",
      "Running epoch 439\n",
      "Error is now [5.64349036]\n",
      "Running epoch 440\n"
     ]
    },
    {
     "name": "stdout",
     "output_type": "stream",
     "text": [
      "Error is now [9.8873153]\n",
      "Running epoch 441\n",
      "Error is now [5.11197675]\n",
      "Running epoch 442\n",
      "Error is now [11.63506279]\n",
      "Running epoch 443\n",
      "Error is now [6.01547097]\n",
      "Running epoch 444\n"
     ]
    },
    {
     "name": "stdout",
     "output_type": "stream",
     "text": [
      "Error is now [7.78441574]\n",
      "Running epoch 445\n",
      "Error is now [13.63689971]\n",
      "Running epoch 446\n",
      "Error is now [6.20407469]\n",
      "Running epoch 447\n",
      "Error is now [5.51735934]\n",
      "Running epoch 448\n"
     ]
    },
    {
     "name": "stdout",
     "output_type": "stream",
     "text": [
      "Error is now [6.0670506]\n",
      "Running epoch 449\n",
      "Error is now [8.62590311]\n",
      "Running epoch 450\n",
      "Error is now [8.88790448]\n",
      "Running epoch 451\n",
      "Error is now [5.67938526]\n",
      "Running epoch 452\n"
     ]
    },
    {
     "name": "stdout",
     "output_type": "stream",
     "text": [
      "Error is now [4.74308193]\n",
      "Running epoch 453\n",
      "Error is now [6.39824375]\n",
      "Running epoch 454\n",
      "Error is now [16.64908306]\n",
      "Running epoch 455\n",
      "Error is now [7.74412349]\n",
      "Running epoch 456\n",
      "Error is now [7.51340137]\n",
      "Running epoch 457\n"
     ]
    },
    {
     "name": "stdout",
     "output_type": "stream",
     "text": [
      "Error is now [14.66304919]\n",
      "Running epoch 458\n",
      "Error is now [6.25950202]\n",
      "Running epoch 459\n",
      "Error is now [6.11759036]\n",
      "Running epoch 460\n",
      "Error is now [9.49745017]\n",
      "Running epoch 461\n",
      "Error is now [4.97331683]\n",
      "Running epoch 462\n"
     ]
    },
    {
     "name": "stdout",
     "output_type": "stream",
     "text": [
      "Error is now [11.43151168]\n",
      "Running epoch 463\n",
      "Error is now [6.52152347]\n",
      "Running epoch 464\n",
      "Error is now [6.19735712]\n",
      "Running epoch 465\n",
      "Error is now [9.3404064]\n",
      "Running epoch 466\n"
     ]
    },
    {
     "name": "stdout",
     "output_type": "stream",
     "text": [
      "Error is now [7.38800284]\n",
      "Running epoch 467\n",
      "Error is now [9.66095443]\n",
      "Running epoch 468\n",
      "Error is now [8.38144486]\n",
      "Running epoch 469\n",
      "Error is now [5.39244082]\n",
      "Running epoch 470\n"
     ]
    },
    {
     "name": "stdout",
     "output_type": "stream",
     "text": [
      "Error is now [9.74746581]\n",
      "Running epoch 471\n",
      "Error is now [7.93072347]\n",
      "Running epoch 472\n",
      "Error is now [4.72639184]\n",
      "Running epoch 473\n",
      "Error is now [8.39131058]\n",
      "Running epoch 474\n"
     ]
    },
    {
     "name": "stdout",
     "output_type": "stream",
     "text": [
      "Error is now [12.54968318]\n",
      "Running epoch 475\n",
      "Error is now [8.87097973]\n",
      "Running epoch 476\n",
      "Error is now [8.99245571]\n",
      "Running epoch 477\n",
      "Error is now [5.0425547]\n",
      "Running epoch 478\n"
     ]
    },
    {
     "name": "stdout",
     "output_type": "stream",
     "text": [
      "Error is now [4.89782902]\n",
      "Running epoch 479\n",
      "Error is now [8.45522164]\n",
      "Running epoch 480\n",
      "Error is now [8.26762516]\n",
      "Running epoch 481\n",
      "Error is now [6.71590418]\n",
      "Running epoch 482\n"
     ]
    },
    {
     "name": "stdout",
     "output_type": "stream",
     "text": [
      "Error is now [7.62030986]\n",
      "Running epoch 483\n",
      "Error is now [4.79689354]\n",
      "Running epoch 484\n",
      "Error is now [6.70184974]\n",
      "Running epoch 485\n",
      "Error is now [8.88655611]\n",
      "Running epoch 486\n"
     ]
    },
    {
     "name": "stdout",
     "output_type": "stream",
     "text": [
      "Error is now [5.42928195]\n",
      "Running epoch 487\n",
      "Error is now [8.0721591]\n",
      "Running epoch 488\n",
      "Error is now [5.43158612]\n",
      "Running epoch 489\n",
      "Error is now [6.1371111]\n",
      "Running epoch 490\n"
     ]
    },
    {
     "name": "stdout",
     "output_type": "stream",
     "text": [
      "Error is now [8.50073316]\n",
      "Running epoch 491\n",
      "Error is now [4.97729331]\n",
      "Running epoch 492\n",
      "Error is now [5.67000909]\n",
      "Running epoch 493\n",
      "Error is now [5.77109438]\n",
      "Running epoch 494\n"
     ]
    },
    {
     "name": "stdout",
     "output_type": "stream",
     "text": [
      "Error is now [5.91803897]\n",
      "Running epoch 495\n",
      "Error is now [5.3565989]\n",
      "Running epoch 496\n",
      "Error is now [5.76423956]\n",
      "Running epoch 497\n",
      "Error is now [5.44017227]\n",
      "Running epoch 498\n"
     ]
    },
    {
     "name": "stdout",
     "output_type": "stream",
     "text": [
      "Error is now [5.63583934]\n",
      "Running epoch 499\n",
      "Error is now [6.70644849]\n",
      "Running epoch 500\n",
      "Error is now [5.74617866]\n",
      "Running epoch 501\n",
      "Error is now [5.24362132]\n",
      "Running epoch 502\n"
     ]
    },
    {
     "name": "stdout",
     "output_type": "stream",
     "text": [
      "Error is now [5.37977841]\n",
      "Running epoch 503\n",
      "Error is now [5.03103195]\n",
      "Running epoch 504\n",
      "Error is now [8.05367202]\n",
      "Running epoch 505\n",
      "Error is now [5.9069418]\n",
      "Running epoch 506\n"
     ]
    },
    {
     "name": "stdout",
     "output_type": "stream",
     "text": [
      "Error is now [18.35401183]\n",
      "Running epoch 507\n",
      "Error is now [7.05342555]\n",
      "Running epoch 508\n",
      "Error is now [10.33256997]\n",
      "Running epoch 509\n",
      "Error is now [10.93108383]\n",
      "Running epoch 510\n"
     ]
    },
    {
     "name": "stdout",
     "output_type": "stream",
     "text": [
      "Error is now [4.6422765]\n",
      "Running epoch 511\n",
      "Error is now [5.25071692]\n",
      "Running epoch 512\n",
      "Error is now [6.18708085]\n",
      "Running epoch 513\n",
      "Error is now [8.79584701]\n",
      "Running epoch 514\n"
     ]
    },
    {
     "name": "stdout",
     "output_type": "stream",
     "text": [
      "Error is now [4.91350675]\n",
      "Running epoch 515\n",
      "Error is now [8.99525409]\n",
      "Running epoch 516\n",
      "Error is now [4.73418627]\n",
      "Running epoch 517\n",
      "Error is now [8.31767958]\n",
      "Running epoch 518\n"
     ]
    },
    {
     "name": "stdout",
     "output_type": "stream",
     "text": [
      "Error is now [8.30397808]\n",
      "Running epoch 519\n",
      "Error is now [9.88881822]\n",
      "Running epoch 520\n",
      "Error is now [8.92154182]\n",
      "Running epoch 521\n",
      "Error is now [9.05995309]\n",
      "Running epoch 522\n"
     ]
    },
    {
     "name": "stdout",
     "output_type": "stream",
     "text": [
      "Error is now [5.5284046]\n",
      "Running epoch 523\n",
      "Error is now [4.87004484]\n",
      "Running epoch 524\n",
      "Error is now [7.89913768]\n",
      "Running epoch 525\n",
      "Error is now [9.83048034]\n",
      "Running epoch 526\n"
     ]
    },
    {
     "name": "stdout",
     "output_type": "stream",
     "text": [
      "Error is now [5.31751539]\n",
      "Running epoch 527\n",
      "Error is now [7.31932918]\n",
      "Running epoch 528\n",
      "Error is now [9.54377462]\n",
      "Running epoch 529\n",
      "Error is now [6.31190802]\n",
      "Running epoch 530\n"
     ]
    },
    {
     "name": "stdout",
     "output_type": "stream",
     "text": [
      "Error is now [8.34520694]\n",
      "Running epoch 531\n",
      "Error is now [5.17768019]\n",
      "Running epoch 532\n",
      "Error is now [5.85745027]\n",
      "Running epoch 533\n",
      "Error is now [19.49060153]\n",
      "Running epoch 534\n"
     ]
    },
    {
     "name": "stdout",
     "output_type": "stream",
     "text": [
      "Error is now [11.07447919]\n",
      "Running epoch 535\n",
      "Error is now [4.91250641]\n",
      "Running epoch 536\n",
      "Error is now [7.49581088]\n",
      "Running epoch 537\n",
      "Error is now [5.99075126]\n",
      "Running epoch 538\n"
     ]
    },
    {
     "name": "stdout",
     "output_type": "stream",
     "text": [
      "Error is now [9.6850829]\n",
      "Running epoch 539\n",
      "Error is now [10.22983868]\n",
      "Running epoch 540\n",
      "Error is now [8.51956806]\n",
      "Running epoch 541\n",
      "Error is now [8.29997521]\n",
      "Running epoch 542\n",
      "Error is now [7.1384908]\n",
      "Running epoch 543\n"
     ]
    },
    {
     "name": "stdout",
     "output_type": "stream",
     "text": [
      "Error is now [8.0607957]\n",
      "Running epoch 544\n",
      "Error is now [6.55084801]\n",
      "Running epoch 545\n",
      "Error is now [6.81626208]\n",
      "Running epoch 546\n",
      "Error is now [13.82916377]\n",
      "Running epoch 547\n"
     ]
    },
    {
     "name": "stdout",
     "output_type": "stream",
     "text": [
      "Error is now [5.3205194]\n",
      "Running epoch 548\n",
      "Error is now [10.85546788]\n",
      "Running epoch 549\n",
      "Error is now [7.06470466]\n",
      "Running epoch 550\n",
      "Error is now [5.74056488]\n",
      "Running epoch 551\n"
     ]
    },
    {
     "name": "stdout",
     "output_type": "stream",
     "text": [
      "Error is now [7.60660928]\n",
      "Running epoch 552\n",
      "Error is now [6.64194379]\n",
      "Running epoch 553\n",
      "Error is now [5.31860223]\n",
      "Running epoch 554\n",
      "Error is now [4.06188446]\n",
      "Running epoch 555\n"
     ]
    },
    {
     "name": "stdout",
     "output_type": "stream",
     "text": [
      "Error is now [6.00165466]\n",
      "Running epoch 556\n",
      "Error is now [11.9045752]\n",
      "Running epoch 557\n",
      "Error is now [8.7676611]\n",
      "Running epoch 558\n",
      "Error is now [5.37006201]\n",
      "Running epoch 559\n"
     ]
    },
    {
     "name": "stdout",
     "output_type": "stream",
     "text": [
      "Error is now [10.21964633]\n",
      "Running epoch 560\n",
      "Error is now [7.44288394]\n",
      "Running epoch 561\n",
      "Error is now [4.94042627]\n",
      "Running epoch 562\n",
      "Error is now [5.11966571]\n",
      "Running epoch 563\n"
     ]
    },
    {
     "name": "stdout",
     "output_type": "stream",
     "text": [
      "Error is now [10.9311566]\n",
      "Running epoch 564\n",
      "Error is now [5.91838425]\n",
      "Running epoch 565\n",
      "Error is now [4.46251381]\n",
      "Running epoch 566\n",
      "Error is now [5.05910167]\n",
      "Running epoch 567\n"
     ]
    },
    {
     "name": "stdout",
     "output_type": "stream",
     "text": [
      "Error is now [5.72268044]\n",
      "Running epoch 568\n",
      "Error is now [9.43554351]\n",
      "Running epoch 569\n",
      "Error is now [7.77803078]\n",
      "Running epoch 570\n",
      "Error is now [5.66644896]\n",
      "Running epoch 571\n"
     ]
    },
    {
     "name": "stdout",
     "output_type": "stream",
     "text": [
      "Error is now [11.00636724]\n",
      "Running epoch 572\n",
      "Error is now [12.07295314]\n",
      "Running epoch 573\n",
      "Error is now [5.56735448]\n",
      "Running epoch 574\n",
      "Error is now [10.58093306]\n",
      "Running epoch 575\n"
     ]
    },
    {
     "name": "stdout",
     "output_type": "stream",
     "text": [
      "Error is now [7.96359006]\n",
      "Running epoch 576\n",
      "Error is now [11.13788171]\n",
      "Running epoch 577\n",
      "Error is now [5.09783714]\n",
      "Running epoch 578\n",
      "Error is now [7.48816608]\n",
      "Running epoch 579\n"
     ]
    },
    {
     "name": "stdout",
     "output_type": "stream",
     "text": [
      "Error is now [4.46491942]\n",
      "Running epoch 580\n",
      "Error is now [7.57621084]\n",
      "Running epoch 581\n",
      "Error is now [4.73184949]\n",
      "Running epoch 582\n",
      "Error is now [26.14560613]\n",
      "Running epoch 583\n"
     ]
    },
    {
     "name": "stdout",
     "output_type": "stream",
     "text": [
      "Error is now [6.18479398]\n",
      "Running epoch 584\n",
      "Error is now [5.35592711]\n",
      "Running epoch 585\n",
      "Error is now [5.04864468]\n",
      "Running epoch 586\n",
      "Error is now [7.37152631]\n",
      "Running epoch 587\n"
     ]
    },
    {
     "name": "stdout",
     "output_type": "stream",
     "text": [
      "Error is now [4.64154698]\n",
      "Running epoch 588\n",
      "Error is now [7.42871624]\n",
      "Running epoch 589\n",
      "Error is now [15.97864179]\n",
      "Running epoch 590\n",
      "Error is now [6.38622939]\n",
      "Running epoch 591\n"
     ]
    },
    {
     "name": "stdout",
     "output_type": "stream",
     "text": [
      "Error is now [26.92546779]\n",
      "Running epoch 592\n",
      "Error is now [7.24939596]\n",
      "Running epoch 593\n",
      "Error is now [4.52634278]\n",
      "Running epoch 594\n",
      "Error is now [4.86425455]\n",
      "Running epoch 595\n"
     ]
    },
    {
     "name": "stdout",
     "output_type": "stream",
     "text": [
      "Error is now [5.83745962]\n",
      "Running epoch 596\n",
      "Error is now [5.76571385]\n",
      "Running epoch 597\n",
      "Error is now [7.2547341]\n",
      "Running epoch 598\n",
      "Error is now [5.09538656]\n",
      "Running epoch 599\n"
     ]
    },
    {
     "name": "stdout",
     "output_type": "stream",
     "text": [
      "Error is now [6.41892649]\n",
      "Running epoch 600\n",
      "Error is now [5.42544621]\n",
      "Running epoch 601\n",
      "Error is now [7.03631542]\n",
      "Running epoch 602\n",
      "Error is now [4.58677049]\n",
      "Running epoch 603\n"
     ]
    },
    {
     "name": "stdout",
     "output_type": "stream",
     "text": [
      "Error is now [4.12491432]\n",
      "Running epoch 604\n",
      "Error is now [5.99193817]\n",
      "Running epoch 605\n",
      "Error is now [6.67892942]\n",
      "Running epoch 606\n",
      "Error is now [8.64112542]\n",
      "Running epoch 607\n"
     ]
    },
    {
     "name": "stdout",
     "output_type": "stream",
     "text": [
      "Error is now [5.19014959]\n",
      "Running epoch 608\n",
      "Error is now [7.41078337]\n",
      "Running epoch 609\n",
      "Error is now [10.06751627]\n",
      "Running epoch 610\n",
      "Error is now [5.19137883]\n",
      "Running epoch 611\n"
     ]
    },
    {
     "name": "stdout",
     "output_type": "stream",
     "text": [
      "Error is now [5.08217276]\n",
      "Running epoch 612\n",
      "Error is now [8.56892783]\n",
      "Running epoch 613\n",
      "Error is now [5.69329796]\n",
      "Running epoch 614\n",
      "Error is now [6.62267013]\n",
      "Running epoch 615\n"
     ]
    },
    {
     "name": "stdout",
     "output_type": "stream",
     "text": [
      "Error is now [9.19818724]\n",
      "Running epoch 616\n",
      "Error is now [6.46001057]\n",
      "Running epoch 617\n",
      "Error is now [6.11187675]\n",
      "Running epoch 618\n",
      "Error is now [8.06199139]\n",
      "Running epoch 619\n"
     ]
    },
    {
     "name": "stdout",
     "output_type": "stream",
     "text": [
      "Error is now [6.54028448]\n",
      "Running epoch 620\n",
      "Error is now [6.17750989]\n",
      "Running epoch 621\n",
      "Error is now [5.07994467]\n",
      "Running epoch 622\n",
      "Error is now [6.3957417]\n",
      "Running epoch 623\n"
     ]
    },
    {
     "name": "stdout",
     "output_type": "stream",
     "text": [
      "Error is now [3.99977205]\n",
      "Running epoch 624\n",
      "Error is now [6.49963678]\n",
      "Running epoch 625\n",
      "Error is now [5.25100682]\n",
      "Running epoch 626\n",
      "Error is now [5.36101176]\n",
      "Running epoch 627\n"
     ]
    },
    {
     "name": "stdout",
     "output_type": "stream",
     "text": [
      "Error is now [5.05720861]\n",
      "Running epoch 628\n",
      "Error is now [4.92447626]\n",
      "Running epoch 629\n",
      "Error is now [5.27838583]\n",
      "Running epoch 630\n",
      "Error is now [5.54853158]\n",
      "Running epoch 631\n"
     ]
    },
    {
     "name": "stdout",
     "output_type": "stream",
     "text": [
      "Error is now [7.32111822]\n",
      "Running epoch 632\n",
      "Error is now [4.62329041]\n",
      "Running epoch 633\n",
      "Error is now [5.31265902]\n",
      "Running epoch 634\n",
      "Error is now [15.41883153]\n",
      "Running epoch 635\n"
     ]
    },
    {
     "name": "stdout",
     "output_type": "stream",
     "text": [
      "Error is now [4.79981163]\n",
      "Running epoch 636\n",
      "Error is now [6.47274507]\n",
      "Running epoch 637\n",
      "Error is now [18.40227561]\n",
      "Running epoch 638\n",
      "Error is now [6.89993639]\n",
      "Running epoch 639\n"
     ]
    },
    {
     "name": "stdout",
     "output_type": "stream",
     "text": [
      "Error is now [7.87985849]\n",
      "Running epoch 640\n",
      "Error is now [5.73194915]\n",
      "Running epoch 641\n",
      "Error is now [6.63839236]\n",
      "Running epoch 642\n",
      "Error is now [9.28935293]\n",
      "Running epoch 643\n"
     ]
    },
    {
     "name": "stdout",
     "output_type": "stream",
     "text": [
      "Error is now [4.99610008]\n",
      "Running epoch 644\n",
      "Error is now [4.53477086]\n",
      "Running epoch 645\n",
      "Error is now [4.8669972]\n",
      "Running epoch 646\n",
      "Error is now [7.6264372]\n",
      "Running epoch 647\n"
     ]
    },
    {
     "name": "stdout",
     "output_type": "stream",
     "text": [
      "Error is now [5.38922453]\n",
      "Running epoch 648\n",
      "Error is now [9.61061073]\n",
      "Running epoch 649\n",
      "Error is now [6.18447208]\n",
      "Running epoch 650\n",
      "Error is now [4.78720302]\n",
      "Running epoch 651\n"
     ]
    },
    {
     "name": "stdout",
     "output_type": "stream",
     "text": [
      "Error is now [7.23142402]\n",
      "Running epoch 652\n",
      "Error is now [8.39953454]\n",
      "Running epoch 653\n",
      "Error is now [15.09081726]\n",
      "Running epoch 654\n",
      "Error is now [6.0898625]\n",
      "Running epoch 655\n"
     ]
    },
    {
     "name": "stdout",
     "output_type": "stream",
     "text": [
      "Error is now [6.21874052]\n",
      "Running epoch 656\n",
      "Error is now [5.9536631]\n",
      "Running epoch 657\n",
      "Error is now [5.05138909]\n",
      "Running epoch 658\n",
      "Error is now [5.45346627]\n",
      "Running epoch 659\n"
     ]
    },
    {
     "name": "stdout",
     "output_type": "stream",
     "text": [
      "Error is now [6.66222872]\n",
      "Running epoch 660\n",
      "Error is now [5.65378864]\n",
      "Running epoch 661\n",
      "Error is now [5.43694888]\n",
      "Running epoch 662\n",
      "Error is now [4.88114486]\n",
      "Running epoch 663\n"
     ]
    },
    {
     "name": "stdout",
     "output_type": "stream",
     "text": [
      "Error is now [4.66988944]\n",
      "Running epoch 664\n",
      "Error is now [5.40882989]\n",
      "Running epoch 665\n",
      "Error is now [4.31630231]\n",
      "Running epoch 666\n",
      "Error is now [5.67793199]\n",
      "Running epoch 667\n"
     ]
    },
    {
     "name": "stdout",
     "output_type": "stream",
     "text": [
      "Error is now [3.91320917]\n",
      "Running epoch 668\n",
      "Error is now [8.70540841]\n",
      "Running epoch 669\n",
      "Error is now [7.87342771]\n",
      "Running epoch 670\n",
      "Error is now [5.10744393]\n",
      "Running epoch 671\n"
     ]
    },
    {
     "name": "stdout",
     "output_type": "stream",
     "text": [
      "Error is now [4.34795984]\n",
      "Running epoch 672\n",
      "Error is now [4.46823596]\n",
      "Running epoch 673\n",
      "Error is now [5.77608169]\n",
      "Running epoch 674\n",
      "Error is now [5.50948922]\n",
      "Running epoch 675\n"
     ]
    },
    {
     "name": "stdout",
     "output_type": "stream",
     "text": [
      "Error is now [4.42784699]\n",
      "Running epoch 676\n",
      "Error is now [6.58967569]\n",
      "Running epoch 677\n",
      "Error is now [7.05610836]\n",
      "Running epoch 678\n",
      "Error is now [5.04123604]\n",
      "Running epoch 679\n"
     ]
    },
    {
     "name": "stdout",
     "output_type": "stream",
     "text": [
      "Error is now [6.42832681]\n",
      "Running epoch 680\n",
      "Error is now [9.08435661]\n",
      "Running epoch 681\n",
      "Error is now [4.05744814]\n",
      "Running epoch 682\n",
      "Error is now [5.26796934]\n",
      "Running epoch 683\n",
      "Error is now [7.78857439]\n",
      "Running epoch 684\n",
      "Error is now [7.87215605]\n",
      "Running epoch 685\n"
     ]
    },
    {
     "name": "stdout",
     "output_type": "stream",
     "text": [
      "Error is now [4.62224308]\n",
      "Running epoch 686\n",
      "Error is now [6.65129532]\n",
      "Running epoch 687\n",
      "Error is now [5.21072212]\n",
      "Running epoch 688\n",
      "Error is now [5.28925141]\n",
      "Running epoch 689\n"
     ]
    },
    {
     "name": "stdout",
     "output_type": "stream",
     "text": [
      "Error is now [7.2732102]\n",
      "Running epoch 690\n",
      "Error is now [3.95479522]\n",
      "Running epoch 691\n",
      "Error is now [9.27545783]\n",
      "Running epoch 692\n",
      "Error is now [4.75253957]\n",
      "Running epoch 693\n"
     ]
    },
    {
     "name": "stdout",
     "output_type": "stream",
     "text": [
      "Error is now [6.70665603]\n",
      "Running epoch 694\n",
      "Error is now [6.42337354]\n",
      "Running epoch 695\n",
      "Error is now [3.58668557]\n",
      "Running epoch 696\n",
      "Error is now [6.27232093]\n",
      "Running epoch 697\n"
     ]
    },
    {
     "name": "stdout",
     "output_type": "stream",
     "text": [
      "Error is now [4.6871437]\n",
      "Running epoch 698\n",
      "Error is now [3.38448826]\n",
      "Running epoch 699\n",
      "Error is now [4.60401058]\n",
      "Running epoch 700\n",
      "Error is now [5.5389364]\n",
      "Running epoch 701\n"
     ]
    },
    {
     "name": "stdout",
     "output_type": "stream",
     "text": [
      "Error is now [4.79296569]\n",
      "Running epoch 702\n",
      "Error is now [5.19534937]\n",
      "Running epoch 703\n",
      "Error is now [4.74296325]\n",
      "Running epoch 704\n",
      "Error is now [10.4779452]\n",
      "Running epoch 705\n"
     ]
    },
    {
     "name": "stdout",
     "output_type": "stream",
     "text": [
      "Error is now [4.26256616]\n",
      "Running epoch 706\n",
      "Error is now [4.32346851]\n",
      "Running epoch 707\n",
      "Error is now [6.15198774]\n",
      "Running epoch 708\n",
      "Error is now [4.99308368]\n",
      "Running epoch 709\n"
     ]
    },
    {
     "name": "stdout",
     "output_type": "stream",
     "text": [
      "Error is now [5.2985215]\n",
      "Running epoch 710\n",
      "Error is now [10.91264907]\n",
      "Running epoch 711\n",
      "Error is now [5.22663759]\n",
      "Running epoch 712\n",
      "Error is now [7.29442588]\n",
      "Running epoch 713\n"
     ]
    },
    {
     "name": "stdout",
     "output_type": "stream",
     "text": [
      "Error is now [9.67926117]\n",
      "Running epoch 714\n",
      "Error is now [8.74354144]\n",
      "Running epoch 715\n",
      "Error is now [5.66779987]\n",
      "Running epoch 716\n",
      "Error is now [4.33704931]\n",
      "Running epoch 717\n"
     ]
    },
    {
     "name": "stdout",
     "output_type": "stream",
     "text": [
      "Error is now [10.98406371]\n",
      "Running epoch 718\n",
      "Error is now [4.61715547]\n",
      "Running epoch 719\n",
      "Error is now [4.39952919]\n",
      "Running epoch 720\n",
      "Error is now [4.95760719]\n",
      "Running epoch 721\n"
     ]
    },
    {
     "name": "stdout",
     "output_type": "stream",
     "text": [
      "Error is now [3.5302301]\n",
      "Running epoch 722\n",
      "Error is now [5.32739991]\n",
      "Running epoch 723\n",
      "Error is now [5.21864659]\n",
      "Running epoch 724\n",
      "Error is now [7.99252947]\n",
      "Running epoch 725\n"
     ]
    },
    {
     "name": "stdout",
     "output_type": "stream",
     "text": [
      "Error is now [4.56392023]\n",
      "Running epoch 726\n",
      "Error is now [7.39374711]\n",
      "Running epoch 727\n",
      "Error is now [4.39860366]\n",
      "Running epoch 728\n",
      "Error is now [6.04114667]\n",
      "Running epoch 729\n"
     ]
    },
    {
     "name": "stdout",
     "output_type": "stream",
     "text": [
      "Error is now [4.94970408]\n",
      "Running epoch 730\n",
      "Error is now [5.60727064]\n",
      "Running epoch 731\n",
      "Error is now [4.4845754]\n",
      "Running epoch 732\n",
      "Error is now [4.05237461]\n",
      "Running epoch 733\n"
     ]
    },
    {
     "name": "stdout",
     "output_type": "stream",
     "text": [
      "Error is now [7.29782037]\n",
      "Running epoch 734\n",
      "Error is now [7.89273929]\n",
      "Running epoch 735\n",
      "Error is now [5.95738528]\n",
      "Running epoch 736\n",
      "Error is now [4.93559911]\n",
      "Running epoch 737\n"
     ]
    },
    {
     "name": "stdout",
     "output_type": "stream",
     "text": [
      "Error is now [7.01785623]\n",
      "Running epoch 738\n",
      "Error is now [5.92891665]\n",
      "Running epoch 739\n",
      "Error is now [3.49518069]\n",
      "Running epoch 740\n",
      "Error is now [7.38307105]\n",
      "Running epoch 741\n"
     ]
    },
    {
     "name": "stdout",
     "output_type": "stream",
     "text": [
      "Error is now [6.36291018]\n",
      "Running epoch 742\n",
      "Error is now [8.39189236]\n",
      "Running epoch 743\n",
      "Error is now [5.94376723]\n",
      "Running epoch 744\n",
      "Error is now [5.58509835]\n",
      "Running epoch 745\n"
     ]
    },
    {
     "name": "stdout",
     "output_type": "stream",
     "text": [
      "Error is now [6.14258699]\n",
      "Running epoch 746\n",
      "Error is now [3.16394436]\n",
      "Running epoch 747\n",
      "Error is now [6.55788927]\n",
      "Running epoch 748\n",
      "Error is now [4.47166496]\n",
      "Running epoch 749\n"
     ]
    },
    {
     "name": "stdout",
     "output_type": "stream",
     "text": [
      "Error is now [5.20976241]\n",
      "Running epoch 750\n",
      "Error is now [6.99874255]\n",
      "Running epoch 751\n",
      "Error is now [5.24956318]\n",
      "Running epoch 752\n",
      "Error is now [7.08815598]\n",
      "Running epoch 753\n"
     ]
    },
    {
     "name": "stdout",
     "output_type": "stream",
     "text": [
      "Error is now [5.73421035]\n",
      "Running epoch 754\n",
      "Error is now [4.8008578]\n",
      "Running epoch 755\n",
      "Error is now [4.75872603]\n",
      "Running epoch 756\n",
      "Error is now [4.5634479]\n",
      "Running epoch 757\n"
     ]
    },
    {
     "name": "stdout",
     "output_type": "stream",
     "text": [
      "Error is now [4.99545693]\n",
      "Running epoch 758\n",
      "Error is now [5.96419442]\n",
      "Running epoch 759\n",
      "Error is now [4.39940869]\n",
      "Running epoch 760\n",
      "Error is now [5.21290808]\n",
      "Running epoch 761\n"
     ]
    },
    {
     "name": "stdout",
     "output_type": "stream",
     "text": [
      "Error is now [6.43424534]\n",
      "Running epoch 762\n",
      "Error is now [5.76821126]\n",
      "Running epoch 763\n",
      "Error is now [15.03858282]\n",
      "Running epoch 764\n",
      "Error is now [6.92850029]\n",
      "Running epoch 765\n"
     ]
    },
    {
     "name": "stdout",
     "output_type": "stream",
     "text": [
      "Error is now [5.30875359]\n",
      "Running epoch 766\n",
      "Error is now [5.31659969]\n",
      "Running epoch 767\n",
      "Error is now [4.48789278]\n",
      "Running epoch 768\n",
      "Error is now [3.58563192]\n",
      "Running epoch 769\n"
     ]
    },
    {
     "name": "stdout",
     "output_type": "stream",
     "text": [
      "Error is now [4.04483853]\n",
      "Running epoch 770\n",
      "Error is now [5.12647607]\n",
      "Running epoch 771\n",
      "Error is now [4.86946123]\n",
      "Running epoch 772\n",
      "Error is now [5.76840329]\n",
      "Running epoch 773\n"
     ]
    },
    {
     "name": "stdout",
     "output_type": "stream",
     "text": [
      "Error is now [6.54963068]\n",
      "Running epoch 774\n",
      "Error is now [6.250644]\n",
      "Running epoch 775\n",
      "Error is now [4.21296729]\n",
      "Running epoch 776\n",
      "Error is now [5.14452621]\n",
      "Running epoch 777\n"
     ]
    },
    {
     "name": "stdout",
     "output_type": "stream",
     "text": [
      "Error is now [3.9933131]\n",
      "Running epoch 778\n",
      "Error is now [7.88310839]\n",
      "Running epoch 779\n",
      "Error is now [3.64783669]\n",
      "Running epoch 780\n",
      "Error is now [8.85781885]\n",
      "Running epoch 781\n"
     ]
    },
    {
     "name": "stdout",
     "output_type": "stream",
     "text": [
      "Error is now [12.50349145]\n",
      "Running epoch 782\n",
      "Error is now [6.154942]\n",
      "Running epoch 783\n",
      "Error is now [6.22626859]\n",
      "Running epoch 784\n",
      "Error is now [8.1219464]\n",
      "Running epoch 785\n"
     ]
    },
    {
     "name": "stdout",
     "output_type": "stream",
     "text": [
      "Error is now [10.24682158]\n",
      "Running epoch 786\n",
      "Error is now [4.38045615]\n",
      "Running epoch 787\n",
      "Error is now [7.32412563]\n",
      "Running epoch 788\n",
      "Error is now [3.67139089]\n",
      "Running epoch 789\n"
     ]
    },
    {
     "name": "stdout",
     "output_type": "stream",
     "text": [
      "Error is now [4.71317394]\n",
      "Running epoch 790\n",
      "Error is now [4.21600209]\n",
      "Running epoch 791\n",
      "Error is now [7.38022795]\n",
      "Running epoch 792\n",
      "Error is now [7.19130427]\n",
      "Running epoch 793\n"
     ]
    },
    {
     "name": "stdout",
     "output_type": "stream",
     "text": [
      "Error is now [3.67175066]\n",
      "Running epoch 794\n",
      "Error is now [5.05537652]\n",
      "Running epoch 795\n",
      "Error is now [4.59158527]\n",
      "Running epoch 796\n",
      "Error is now [9.55894291]\n",
      "Running epoch 797\n"
     ]
    },
    {
     "name": "stdout",
     "output_type": "stream",
     "text": [
      "Error is now [5.44894835]\n",
      "Running epoch 798\n",
      "Error is now [4.91518648]\n",
      "Running epoch 799\n",
      "Error is now [5.02167982]\n",
      "Running epoch 800\n",
      "Error is now [6.36311294]\n",
      "Running epoch 801\n"
     ]
    },
    {
     "name": "stdout",
     "output_type": "stream",
     "text": [
      "Error is now [3.85560431]\n",
      "Running epoch 802\n",
      "Error is now [4.32288696]\n",
      "Running epoch 803\n",
      "Error is now [4.4221172]\n",
      "Running epoch 804\n",
      "Error is now [5.33908181]\n",
      "Running epoch 805\n"
     ]
    },
    {
     "name": "stdout",
     "output_type": "stream",
     "text": [
      "Error is now [7.10342794]\n",
      "Running epoch 806\n",
      "Error is now [4.78342637]\n",
      "Running epoch 807\n",
      "Error is now [4.54188195]\n",
      "Running epoch 808\n",
      "Error is now [5.11615222]\n",
      "Running epoch 809\n"
     ]
    },
    {
     "name": "stdout",
     "output_type": "stream",
     "text": [
      "Error is now [3.91288787]\n",
      "Running epoch 810\n",
      "Error is now [6.86411976]\n",
      "Running epoch 811\n",
      "Error is now [7.5751768]\n",
      "Running epoch 812\n",
      "Error is now [6.85678658]\n",
      "Running epoch 813\n"
     ]
    },
    {
     "name": "stdout",
     "output_type": "stream",
     "text": [
      "Error is now [8.30857375]\n",
      "Running epoch 814\n",
      "Error is now [5.27712396]\n",
      "Running epoch 815\n",
      "Error is now [9.42458125]\n",
      "Running epoch 816\n",
      "Error is now [3.5549698]\n",
      "Running epoch 817\n"
     ]
    },
    {
     "name": "stdout",
     "output_type": "stream",
     "text": [
      "Error is now [3.79737678]\n",
      "Running epoch 818\n",
      "Error is now [3.16654657]\n",
      "Running epoch 819\n",
      "Error is now [4.73275543]\n",
      "Running epoch 820\n",
      "Error is now [17.79445073]\n",
      "Running epoch 821\n"
     ]
    },
    {
     "name": "stdout",
     "output_type": "stream",
     "text": [
      "Error is now [4.09338474]\n",
      "Running epoch 822\n",
      "Error is now [4.70017544]\n",
      "Running epoch 823\n",
      "Error is now [4.21467202]\n",
      "Running epoch 824\n",
      "Error is now [3.5252029]\n",
      "Running epoch 825\n"
     ]
    },
    {
     "name": "stdout",
     "output_type": "stream",
     "text": [
      "Error is now [7.2832712]\n",
      "Running epoch 826\n",
      "Error is now [6.07956705]\n",
      "Running epoch 827\n",
      "Error is now [6.70808851]\n",
      "Running epoch 828\n",
      "Error is now [4.26442463]\n",
      "Running epoch 829\n"
     ]
    },
    {
     "name": "stdout",
     "output_type": "stream",
     "text": [
      "Error is now [4.47968432]\n",
      "Running epoch 830\n",
      "Error is now [3.68929875]\n",
      "Running epoch 831\n",
      "Error is now [3.80861131]\n",
      "Running epoch 832\n",
      "Error is now [5.9001314]\n",
      "Running epoch 833\n"
     ]
    },
    {
     "name": "stdout",
     "output_type": "stream",
     "text": [
      "Error is now [9.37954274]\n",
      "Running epoch 834\n",
      "Error is now [3.41402096]\n",
      "Running epoch 835\n",
      "Error is now [8.63913606]\n",
      "Running epoch 836\n",
      "Error is now [4.21247089]\n",
      "Running epoch 837\n"
     ]
    },
    {
     "name": "stdout",
     "output_type": "stream",
     "text": [
      "Error is now [4.46262425]\n",
      "Running epoch 838\n",
      "Error is now [3.72785632]\n",
      "Running epoch 839\n",
      "Error is now [5.01565975]\n",
      "Running epoch 840\n",
      "Error is now [5.48933521]\n",
      "Running epoch 841\n"
     ]
    },
    {
     "name": "stdout",
     "output_type": "stream",
     "text": [
      "Error is now [5.35837098]\n",
      "Running epoch 842\n",
      "Error is now [6.99068493]\n",
      "Running epoch 843\n",
      "Error is now [3.40526265]\n",
      "Running epoch 844\n",
      "Error is now [6.27307239]\n",
      "Running epoch 845\n"
     ]
    },
    {
     "name": "stdout",
     "output_type": "stream",
     "text": [
      "Error is now [3.82545765]\n",
      "Running epoch 846\n",
      "Error is now [4.35676267]\n",
      "Running epoch 847\n",
      "Error is now [3.79176876]\n",
      "Running epoch 848\n",
      "Error is now [4.54978404]\n",
      "Running epoch 849\n"
     ]
    },
    {
     "name": "stdout",
     "output_type": "stream",
     "text": [
      "Error is now [4.54153583]\n",
      "Running epoch 850\n",
      "Error is now [3.86774986]\n",
      "Running epoch 851\n",
      "Error is now [5.21145426]\n",
      "Running epoch 852\n",
      "Error is now [9.01352579]\n",
      "Running epoch 853\n"
     ]
    },
    {
     "name": "stdout",
     "output_type": "stream",
     "text": [
      "Error is now [4.3858331]\n",
      "Running epoch 854\n",
      "Error is now [4.83857576]\n",
      "Running epoch 855\n",
      "Error is now [6.30538399]\n",
      "Running epoch 856\n",
      "Error is now [3.31706854]\n",
      "Running epoch 857\n"
     ]
    },
    {
     "name": "stdout",
     "output_type": "stream",
     "text": [
      "Error is now [6.13385451]\n",
      "Running epoch 858\n",
      "Error is now [6.44178553]\n",
      "Running epoch 859\n",
      "Error is now [6.84120448]\n",
      "Running epoch 860\n",
      "Error is now [3.58153309]\n",
      "Running epoch 861\n"
     ]
    },
    {
     "name": "stdout",
     "output_type": "stream",
     "text": [
      "Error is now [6.01299316]\n",
      "Running epoch 862\n",
      "Error is now [4.36055853]\n",
      "Running epoch 863\n",
      "Error is now [3.76960893]\n",
      "Running epoch 864\n",
      "Error is now [3.6545552]\n",
      "Running epoch 865\n"
     ]
    },
    {
     "name": "stdout",
     "output_type": "stream",
     "text": [
      "Error is now [5.51925087]\n",
      "Running epoch 866\n",
      "Error is now [4.91141122]\n",
      "Running epoch 867\n",
      "Error is now [4.03607523]\n",
      "Running epoch 868\n",
      "Error is now [7.32745337]\n",
      "Running epoch 869\n"
     ]
    },
    {
     "name": "stdout",
     "output_type": "stream",
     "text": [
      "Error is now [5.36663828]\n",
      "Running epoch 870\n",
      "Error is now [7.5091468]\n",
      "Running epoch 871\n",
      "Error is now [4.897021]\n",
      "Running epoch 872\n",
      "Error is now [4.91250428]\n",
      "Running epoch 873\n"
     ]
    },
    {
     "name": "stdout",
     "output_type": "stream",
     "text": [
      "Error is now [3.32195132]\n",
      "Running epoch 874\n",
      "Error is now [3.29044646]\n",
      "Running epoch 875\n",
      "Error is now [6.44661103]\n",
      "Running epoch 876\n",
      "Error is now [6.79529698]\n",
      "Running epoch 877\n"
     ]
    },
    {
     "name": "stdout",
     "output_type": "stream",
     "text": [
      "Error is now [3.672775]\n",
      "Running epoch 878\n",
      "Error is now [7.34809089]\n",
      "Running epoch 879\n",
      "Error is now [11.77057302]\n",
      "Running epoch 880\n",
      "Error is now [8.74156428]\n",
      "Running epoch 881\n"
     ]
    },
    {
     "name": "stdout",
     "output_type": "stream",
     "text": [
      "Error is now [3.59818004]\n",
      "Running epoch 882\n",
      "Error is now [6.41309726]\n",
      "Running epoch 883\n",
      "Error is now [3.90791516]\n",
      "Running epoch 884\n",
      "Error is now [3.53653294]\n",
      "Running epoch 885\n"
     ]
    },
    {
     "name": "stdout",
     "output_type": "stream",
     "text": [
      "Error is now [5.17286538]\n",
      "Running epoch 886\n",
      "Error is now [5.90816719]\n",
      "Running epoch 887\n",
      "Error is now [6.05619208]\n",
      "Running epoch 888\n",
      "Error is now [4.82234058]\n",
      "Running epoch 889\n"
     ]
    },
    {
     "name": "stdout",
     "output_type": "stream",
     "text": [
      "Error is now [7.40182401]\n",
      "Running epoch 890\n",
      "Error is now [3.88241482]\n",
      "Running epoch 891\n",
      "Error is now [3.66676325]\n",
      "Running epoch 892\n",
      "Error is now [4.53979787]\n",
      "Running epoch 893\n"
     ]
    },
    {
     "name": "stdout",
     "output_type": "stream",
     "text": [
      "Error is now [4.33926909]\n",
      "Running epoch 894\n",
      "Error is now [10.95205547]\n",
      "Running epoch 895\n",
      "Error is now [4.36705401]\n",
      "Running epoch 896\n",
      "Error is now [13.44882003]\n",
      "Running epoch 897\n"
     ]
    },
    {
     "name": "stdout",
     "output_type": "stream",
     "text": [
      "Error is now [3.78484435]\n",
      "Running epoch 898\n",
      "Error is now [9.16044242]\n",
      "Running epoch 899\n",
      "Error is now [5.26046636]\n",
      "Running epoch 900\n",
      "Error is now [8.56868892]\n",
      "Running epoch 901\n"
     ]
    },
    {
     "name": "stdout",
     "output_type": "stream",
     "text": [
      "Error is now [4.08592431]\n",
      "Running epoch 902\n",
      "Error is now [6.41010307]\n",
      "Running epoch 903\n",
      "Error is now [4.59501077]\n",
      "Running epoch 904\n",
      "Error is now [10.38397098]\n",
      "Running epoch 905\n"
     ]
    },
    {
     "name": "stdout",
     "output_type": "stream",
     "text": [
      "Error is now [5.20155179]\n",
      "Running epoch 906\n",
      "Error is now [7.25560205]\n",
      "Running epoch 907\n",
      "Error is now [4.67900415]\n",
      "Running epoch 908\n",
      "Error is now [6.30196854]\n",
      "Running epoch 909\n"
     ]
    },
    {
     "name": "stdout",
     "output_type": "stream",
     "text": [
      "Error is now [7.01517214]\n",
      "Running epoch 910\n",
      "Error is now [4.85403424]\n",
      "Running epoch 911\n",
      "Error is now [5.91200241]\n",
      "Running epoch 912\n",
      "Error is now [5.60502717]\n",
      "Running epoch 913\n"
     ]
    },
    {
     "name": "stdout",
     "output_type": "stream",
     "text": [
      "Error is now [3.50504792]\n",
      "Running epoch 914\n",
      "Error is now [7.45729648]\n",
      "Running epoch 915\n",
      "Error is now [5.26390954]\n",
      "Running epoch 916\n",
      "Error is now [7.5133664]\n",
      "Running epoch 917\n"
     ]
    },
    {
     "name": "stdout",
     "output_type": "stream",
     "text": [
      "Error is now [4.12519162]\n",
      "Running epoch 918\n",
      "Error is now [6.67872227]\n",
      "Running epoch 919\n",
      "Error is now [4.54711519]\n",
      "Running epoch 920\n",
      "Error is now [3.44342453]\n",
      "Running epoch 921\n"
     ]
    },
    {
     "name": "stdout",
     "output_type": "stream",
     "text": [
      "Error is now [3.62031706]\n",
      "Running epoch 922\n",
      "Error is now [4.47513745]\n",
      "Running epoch 923\n",
      "Error is now [4.16028324]\n",
      "Running epoch 924\n",
      "Error is now [4.61166117]\n",
      "Running epoch 925\n"
     ]
    },
    {
     "name": "stdout",
     "output_type": "stream",
     "text": [
      "Error is now [4.19525011]\n",
      "Running epoch 926\n",
      "Error is now [3.6273752]\n",
      "Running epoch 927\n",
      "Error is now [4.63747138]\n",
      "Running epoch 928\n",
      "Error is now [4.03773661]\n",
      "Running epoch 929\n"
     ]
    },
    {
     "name": "stdout",
     "output_type": "stream",
     "text": [
      "Error is now [3.71921419]\n",
      "Running epoch 930\n",
      "Error is now [7.40555371]\n",
      "Running epoch 931\n",
      "Error is now [3.3081257]\n",
      "Running epoch 932\n",
      "Error is now [4.92156202]\n",
      "Running epoch 933\n"
     ]
    },
    {
     "name": "stdout",
     "output_type": "stream",
     "text": [
      "Error is now [3.6691755]\n",
      "Running epoch 934\n",
      "Error is now [3.63978569]\n",
      "Running epoch 935\n",
      "Error is now [4.79886061]\n",
      "Running epoch 936\n",
      "Error is now [5.81770236]\n",
      "Running epoch 937\n"
     ]
    },
    {
     "name": "stdout",
     "output_type": "stream",
     "text": [
      "Error is now [3.79660303]\n",
      "Running epoch 938\n",
      "Error is now [6.76233141]\n",
      "Running epoch 939\n",
      "Error is now [4.05813968]\n",
      "Running epoch 940\n",
      "Error is now [4.34948122]\n",
      "Running epoch 941\n"
     ]
    },
    {
     "name": "stdout",
     "output_type": "stream",
     "text": [
      "Error is now [4.45205575]\n",
      "Running epoch 942\n",
      "Error is now [9.057082]\n",
      "Running epoch 943\n",
      "Error is now [3.71683667]\n",
      "Running epoch 944\n",
      "Error is now [4.54145412]\n",
      "Running epoch 945\n"
     ]
    },
    {
     "name": "stdout",
     "output_type": "stream",
     "text": [
      "Error is now [4.58310209]\n",
      "Running epoch 946\n",
      "Error is now [8.99856986]\n",
      "Running epoch 947\n",
      "Error is now [3.38157269]\n",
      "Running epoch 948\n",
      "Error is now [4.08716109]\n",
      "Running epoch 949\n"
     ]
    },
    {
     "name": "stdout",
     "output_type": "stream",
     "text": [
      "Error is now [10.10687347]\n",
      "Running epoch 950\n",
      "Error is now [5.48287707]\n",
      "Running epoch 951\n",
      "Error is now [4.2919528]\n",
      "Running epoch 952\n",
      "Error is now [3.40937189]\n",
      "Running epoch 953\n"
     ]
    },
    {
     "name": "stdout",
     "output_type": "stream",
     "text": [
      "Error is now [5.56598606]\n",
      "Running epoch 954\n",
      "Error is now [7.45738448]\n",
      "Running epoch 955\n",
      "Error is now [14.79783631]\n",
      "Running epoch 956\n",
      "Error is now [4.50947213]\n",
      "Running epoch 957\n"
     ]
    },
    {
     "name": "stdout",
     "output_type": "stream",
     "text": [
      "Error is now [5.34381942]\n",
      "Running epoch 958\n",
      "Error is now [3.2909832]\n",
      "Running epoch 959\n",
      "Error is now [3.65650833]\n",
      "Running epoch 960\n",
      "Error is now [7.60940544]\n",
      "Running epoch 961\n"
     ]
    },
    {
     "name": "stdout",
     "output_type": "stream",
     "text": [
      "Error is now [7.04941143]\n",
      "Running epoch 962\n",
      "Error is now [7.34624944]\n",
      "Running epoch 963\n",
      "Error is now [3.1784247]\n",
      "Running epoch 964\n",
      "Error is now [17.76890989]\n",
      "Running epoch 965\n"
     ]
    },
    {
     "name": "stdout",
     "output_type": "stream",
     "text": [
      "Error is now [4.58384727]\n",
      "Running epoch 966\n",
      "Error is now [7.37428522]\n",
      "Running epoch 967\n",
      "Error is now [4.73255219]\n",
      "Running epoch 968\n",
      "Error is now [4.2080001]\n",
      "Running epoch 969\n"
     ]
    },
    {
     "name": "stdout",
     "output_type": "stream",
     "text": [
      "Error is now [3.76590343]\n",
      "Running epoch 970\n",
      "Error is now [6.03885562]\n",
      "Running epoch 971\n",
      "Error is now [5.42315508]\n",
      "Running epoch 972\n",
      "Error is now [4.59254733]\n",
      "Running epoch 973\n"
     ]
    },
    {
     "name": "stdout",
     "output_type": "stream",
     "text": [
      "Error is now [5.25841176]\n",
      "Running epoch 974\n",
      "Error is now [3.65132003]\n",
      "Running epoch 975\n",
      "Error is now [6.88041776]\n",
      "Running epoch 976\n",
      "Error is now [3.31839889]\n",
      "Running epoch 977\n"
     ]
    },
    {
     "name": "stdout",
     "output_type": "stream",
     "text": [
      "Error is now [3.9424058]\n",
      "Running epoch 978\n",
      "Error is now [7.06763297]\n",
      "Running epoch 979\n",
      "Error is now [8.4298435]\n",
      "Running epoch 980\n",
      "Error is now [5.03930687]\n",
      "Running epoch 981\n"
     ]
    },
    {
     "name": "stdout",
     "output_type": "stream",
     "text": [
      "Error is now [3.47295145]\n",
      "Running epoch 982\n",
      "Error is now [5.68325267]\n",
      "Running epoch 983\n",
      "Error is now [3.45841687]\n",
      "Running epoch 984\n",
      "Error is now [4.86903531]\n",
      "Running epoch 985\n"
     ]
    },
    {
     "name": "stdout",
     "output_type": "stream",
     "text": [
      "Error is now [5.59738976]\n",
      "Running epoch 986\n",
      "Error is now [3.24979181]\n",
      "Running epoch 987\n",
      "Error is now [4.93390267]\n",
      "Running epoch 988\n",
      "Error is now [6.4784633]\n",
      "Running epoch 989\n"
     ]
    },
    {
     "name": "stdout",
     "output_type": "stream",
     "text": [
      "Error is now [3.61921184]\n",
      "Running epoch 990\n",
      "Error is now [3.04434393]\n",
      "Running epoch 991\n",
      "Error is now [5.20068901]\n",
      "Running epoch 992\n",
      "Error is now [4.3936421]\n",
      "Running epoch 993\n"
     ]
    },
    {
     "name": "stdout",
     "output_type": "stream",
     "text": [
      "Error is now [3.99303831]\n",
      "Running epoch 994\n",
      "Error is now [5.86075416]\n",
      "Running epoch 995\n",
      "Error is now [3.90898816]\n",
      "Running epoch 996\n",
      "Error is now [5.75837504]\n",
      "Running epoch 997\n"
     ]
    },
    {
     "name": "stdout",
     "output_type": "stream",
     "text": [
      "Error is now [6.5536514]\n",
      "Running epoch 998\n",
      "Error is now [3.7894492]\n",
      "Running epoch 999\n",
      "Error is now [6.88874527]\n"
     ]
    }
   ],
   "source": [
    "## Generate some sample data\n",
    "def f(x, y):\n",
    "    return np.sin(np.sqrt(x ** 2 + y ** 2)) + np.cos(0.9 * (x - y))\n",
    "\n",
    "\n",
    "X = np.linspace(-6, 6, 30)\n",
    "Y = np.linspace(-6, 6, 30)\n",
    "x, y = np.meshgrid(X, Y)\n",
    "z = f(x, y)\n",
    "\n",
    "############\n",
    "## Initialize network parameter\n",
    "hiddenNeuronen = 100\n",
    "lernRate = 0.01\n",
    "epochen = 1000\n",
    "\n",
    "\n",
    "xData = x.ravel()\n",
    "yData = y.ravel()\n",
    "trainData = np.array(list(zip(xData, yData)))\n",
    "teachData = z.flatten()\n",
    "\n",
    "error = training(hiddenNeuronen, lernRate, trainData, teachData, epochen)"
   ]
  },
  {
   "cell_type": "markdown",
   "metadata": {
    "collapsed": false
   },
   "source": [
    "### Visualisierung der Daten"
   ]
  },
  {
   "cell_type": "code",
   "execution_count": 9,
   "metadata": {
    "collapsed": false
   },
   "outputs": [
    {
     "data": {
      "text/plain": [
       "Text(0.5,1,'Error')"
      ]
     },
     "execution_count": 9,
     "metadata": {
     },
     "output_type": "execute_result"
    },
    {
     "data": {
      "image/png": "[encoded data removed]",
      "text/plain": [
       "<matplotlib.figure.Figure at 0x7f9b89242c18>"
      ]
     },
     "execution_count": 9,
     "metadata": {
      "image/png": {
       "height": 255,
       "width": 377
      }
     },
     "output_type": "execute_result"
    }
   ],
   "source": [
    "fig = plt.figure()\n",
    "ax1 = fig.add_subplot(2,1,1, projection='3d')\n",
    "surf = ax1.plot_surface(x,y,z, cmap = 'plasma',\n",
    "                       linewidth=0, antialiased=False)\n",
    "ax1.set_title('Original')\n",
    "ax1.set_xlabel('x')\n",
    "ax1.set_ylabel('y')\n",
    "ax1.set_zlabel('Original');\n",
    "\n",
    "ax2 = fig.add_subplot(2,1,2)\n",
    "ax2.plot(error)\n",
    "ax2.set_title('Error')"
   ]
  },
  {
   "cell_type": "code",
   "execution_count": 0,
   "metadata": {
    "collapsed": false
   },
   "outputs": [
   ],
   "source": [
   ]
  }
 ],
 "metadata": {
  "kernelspec": {
   "display_name": "Python 3 (Ubuntu Linux)",
   "language": "python",
   "name": "python3"
  },
  "language_info": {
   "codemirror_mode": {
    "name": "ipython",
    "version": 3
   },
   "file_extension": ".py",
   "mimetype": "text/x-python",
   "name": "python",
   "nbconvert_exporter": "python",
   "pygments_lexer": "ipython3",
   "version": "3.6.7"
  }
 },
 "nbformat": 4,
 "nbformat_minor": 0
}