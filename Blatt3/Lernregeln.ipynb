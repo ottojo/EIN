{
 "cells": [
  {
   "cell_type": "code",
   "execution_count": 15,
   "metadata": {
    "collapsed": false
   },
   "outputs": [
   ],
   "source": [
    "import numpy as np\n",
    "\n",
    "w = -1\n",
    "b = 3\n",
    "\n",
    "trainingSet = np.array([[-1, 0], [0, 1], [1, 0], [2, 0]])\n",
    "\n",
    "eta = 0.8\n",
    "\n",
    "\n",
    "def f(x):\n",
    "    return 1 / (1 + np.exp(-x))\n",
    "\n",
    "\n",
    "# Derivative of f\n",
    "def fd(x):\n",
    "    return np.exp(-x) / (1 + np.exp(-x))**2\n",
    "\n",
    "\n",
    "def grad():\n",
    "    e1 = 0\n",
    "    e2 = 0\n",
    "    for xt in trainingSet:\n",
    "        e1 += xt[0] * fd(w * xt[0] + b) * (xt[1] - f(w * xt[0] + b)) * (-1)\n",
    "        e2 += fd(w * xt[0] + b) * (xt[1] - f(w * xt[0] + b)) * (-1)\n",
    "    return np.array([e1, e2])\n",
    "\n",
    "\n",
    "def learn():\n",
    "    g = grad() * eta\n",
    "    global w\n",
    "    global b\n",
    "    w = w - g[0]\n",
    "    b = b - g[1]\n",
    "\n",
    "\n",
    "grad_w0 = grad()[0]\n",
    "grad_b0 = grad()[1]\n",
    "learn()\n",
    "w1 = w\n",
    "b1 = b"
   ]
  },
  {
   "cell_type": "code",
   "execution_count": 0,
   "metadata": {
    "collapsed": false
   },
   "outputs": [
   ],
   "source": [
   ]
  }
 ],
 "metadata": {
  "kernelspec": {
   "display_name": "Python 3 (Ubuntu Linux)",
   "language": "python",
   "name": "python3"
  },
  "language_info": {
   "codemirror_mode": {
    "name": "ipython",
    "version": 3
   },
   "file_extension": ".py",
   "mimetype": "text/x-python",
   "name": "python",
   "nbconvert_exporter": "python",
   "pygments_lexer": "ipython3",
   "version": "3.6.7"
  }
 },
 "nbformat": 4,
 "nbformat_minor": 0
}