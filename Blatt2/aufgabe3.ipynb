{
 "cells": [
  {
   "cell_type": "code",
   "execution_count": 40,
   "metadata": {
    "collapsed": false
   },
   "outputs": [
    {
     "data": {
      "application/vnd.jupyter.widget-view+json": {
       "model_id": "fdad860330de4e4aadd039176f6f6697",
       "version_major": 2,
       "version_minor": 0
      },
      "text/plain": [
       "interactive(children=(FloatSlider(value=0.0, description='w1:', max=1.0, min=-1.0), FloatSlider(value=0.0, des…"
      ]
     },
     "execution_count": 40,
     "metadata": {
     },
     "output_type": "execute_result"
    },
    {
     "data": {
      "text/plain": [
       "<function __main__.update>"
      ]
     },
     "execution_count": 40,
     "metadata": {
     },
     "output_type": "execute_result"
    }
   ],
   "source": [
    "import matplotlib.pyplot as plt\n",
    "from IPython.display import display, Math, Latex\n",
    "import math\n",
    "from ipywidgets import interact\n",
    "import ipywidgets as widgets\n",
    "\n",
    "import numpy as np\n",
    "\n",
    "\n",
    "def f(x):\n",
    "    return 1 / (1 + np.exp(x))\n",
    "\n",
    "\n",
    "def network(w1, w2, b1, b2):\n",
    "    x = np.arange(-10.0, 10.0, 0.1)\n",
    "    y = f(x * w1 + b1) + f(x * w2 + b2)\n",
    "    return x, y\n",
    "\n",
    "\n",
    "xout, yout = network(1.0, 1.0, 1.0, 1.0)\n",
    "\n",
    "\n",
    "\n",
    "def update(w1, w2, b1, b2):\n",
    "    x, y = network(w1, w2, b1, b2)\n",
    "    ax = plt.plot(x, y)\n",
    "    plt.xlim(-10.0,10.0)\n",
    "    plt.ylim(0.0,2.0)\n",
    "\n",
    "\n",
    "w1_slider = widgets.FloatSlider(min=-1.0, max=1.0, description='w1:')\n",
    "w2_slider = widgets.FloatSlider(min=-1.0, max=1.0, description='w2:')\n",
    "b1_slider = widgets.FloatSlider(min=-1.0, max=1.0, description='b1:')\n",
    "b2_slider = widgets.FloatSlider(min=-1.0, max=1.0, description='b2:')\n",
    "\n",
    "interact(update, w1=w1_slider, w2=w2_slider, b1=b1_slider, b2=b2_slider)"
   ]
  },
  {
   "cell_type": "code",
   "execution_count": 0,
   "metadata": {
    "collapsed": false
   },
   "outputs": [
   ],
   "source": [
   ]
  },
  {
   "cell_type": "code",
   "execution_count": 0,
   "metadata": {
    "collapsed": false
   },
   "outputs": [
   ],
   "source": [
   ]
  }
 ],
 "metadata": {
  "kernelspec": {
   "display_name": "Python 3 (Ubuntu Linux)",
   "language": "python",
   "name": "python3"
  },
  "language_info": {
   "codemirror_mode": {
    "name": "ipython",
    "version": 3
   },
   "file_extension": ".py",
   "mimetype": "text/x-python",
   "name": "python",
   "nbconvert_exporter": "python",
   "pygments_lexer": "ipython3",
   "version": "3.6.7"
  }
 },
 "nbformat": 4,
 "nbformat_minor": 0
}