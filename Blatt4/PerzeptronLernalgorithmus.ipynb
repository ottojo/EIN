{
 "cells": [
  {
   "cell_type": "markdown",
   "metadata": {
    "collapsed": false
   },
   "source": [
    "# Perzeptron-Lernalgorithmus"
   ]
  },
  {
   "cell_type": "code",
   "execution_count": 257,
   "metadata": {
    "collapsed": false
   },
   "outputs": [
   ],
   "source": [
    "import numpy as np\n",
    "import matplotlib.pyplot as plt\n",
    "import ipywidgets as widgets\n",
    "from ipywidgets import interact\n",
    "from IPython.display import display"
   ]
  },
  {
   "cell_type": "code",
   "execution_count": 256,
   "metadata": {
    "collapsed": false
   },
   "outputs": [
    {
     "data": {
      "text/plain": [
       "(10, 3)"
      ]
     },
     "execution_count": 256,
     "metadata": {
     },
     "output_type": "execute_result"
    }
   ],
   "source": [
    "data = np.array([[-3, 1, -1], \n",
    "                 [-3, 3, 1], \n",
    "                 [-2, 1, -1], \n",
    "                 [-2, 4, 1], \n",
    "                 [-1, 3, 1], \n",
    "                 [-1, 4, 1], \n",
    "                 [2, 2, -1], \n",
    "                 [2, 4, 1], \n",
    "                 [3, 2, -1], \n",
    "                 [4, 1, -1]])\n",
    "data.shape"
   ]
  },
  {
   "cell_type": "markdown",
   "metadata": {
    "collapsed": false
   },
   "source": [
    "## Teil 1: Implementierung"
   ]
  },
  {
   "cell_type": "code",
   "execution_count": 255,
   "metadata": {
    "collapsed": false,
    "scrolled": true
   },
   "outputs": [
   ],
   "source": [
    "weight_vector = np.zeros(3, dtype=np.float32)\n",
    "weight_vector = [1,2,-1]\n",
    "weight_vectors = np.array([[1,2,-1]])\n",
    "eta = 1\n",
    "# weight_vectors = np.append(weight_vectors, weight_vector)\n",
    "change = True\n",
    "\n",
    "while change:\n",
    "    change = False\n",
    "    for x in data:\n",
    "        # get last(most recent) weight_vector\n",
    "        w = weight_vectors[-1] \n",
    "        # set p*\n",
    "        p = np.append(x[:-1],1)\n",
    "        # extract set info\n",
    "        a = x[-1]\n",
    "        if (a == 1)  and np.dot(w,p).item(0) < 0:\n",
    "            weight_vectors = np.concatenate((weight_vectors, np.array([w + eta * p])),axis=0)\n",
    "            change = True\n",
    "        elif (a == -1) and np.dot(w,p).item(0) > 0:\n",
    "            weight_vectors = np.concatenate((weight_vectors, np.array([w - eta * p])),axis=0)\n",
    "            change = True\n",
    "            "
   ]
  },
  {
   "cell_type": "markdown",
   "metadata": {
    "collapsed": false
   },
   "source": [
    "## Teil 2: Darstellung"
   ]
  },
  {
   "cell_type": "code",
   "execution_count": 268,
   "metadata": {
    "collapsed": false
   },
   "outputs": [
    {
     "data": {
      "application/vnd.jupyter.widget-view+json": {
       "model_id": "8d097818382f433badcf536a4a4ecf8c",
       "version_major": 2,
       "version_minor": 0
      },
      "text/plain": [
       "interactive(children=(IntSlider(value=5, description='step', max=10), Output()), _dom_classes=('widget-interac…"
      ]
     },
     "execution_count": 268,
     "metadata": {
     },
     "output_type": "execute_result"
    }
   ],
   "source": [
    "# TODO: improve color setup and Labels\n",
    "\n",
    "# current step\n",
    "#step=4\n",
    "\n",
    "def g(x, y, w):\n",
    "    p = np.array([x,y,1])\n",
    "    return np.dot(w,p)\n",
    "\n",
    "\n",
    "@interact\n",
    "def plot(step=(0, len(weight_vectors)-1,1)):\n",
    "    # setup\n",
    "    plt.style.use('ggplot')\n",
    "    fig = plt.figure(figsize=(10,10))\n",
    "    ax = fig.add_subplot(111)\n",
    "    #ax2 = fig.add_subplot(111)\n",
    "    ax.set_aspect('equal')\n",
    "    ax.set_xlim(-5,5)\n",
    "    ax.set_ylim(-5,5)\n",
    "    ax.set_title(\"Visualisierung linear separierbarer Daten\")\n",
    "    ax.set_xlabel(\"$x_1$\")\n",
    "    ax.set_ylabel(\"$x_2$\")\n",
    "\n",
    "    # data points\n",
    "    ax.scatter(data[:,0],data[:,1],c=data[:,2])\n",
    "\n",
    "    # weight vector\n",
    "    opt = {'head_width': 0.2, 'head_length': 0.2,\n",
    "            'length_includes_head': True, 'color': 'red'}\n",
    "    arrow = ax.arrow(0,0,weight_vectors[step,0],weight_vectors[step,1],**opt)\n",
    "\n",
    "    delta = 0.025\n",
    "    x = np.arange(-5,5, delta)\n",
    "    y = np.arange(-5,5, delta)\n",
    "    \n",
    "    X, Y = np.meshgrid(x,y)\n",
    "    Z = g(X, Y, weight_vectors[step,:])\n",
    "    \n",
    "    ax.contour(X, Y ,Z,levels=0,colors='black')\n",
    "\n",
    "    # separation regions\n",
    "    levels = [-100,0,100]\n",
    "    regions = ax.contourf(X, Y ,Z, levels, extend='both',alpha=0.2)\n",
    "    \n",
    "#    regions.collections[1].set_label('$\\omega_{-1}$')\n",
    "#    regions.collections[2].set_label('$\\omega_1$')\n",
    "#    ax.legend()\n",
    "    \n",
    "    # contourf allows implicit definition\n",
    "    #ax.fill_between(x,y,-5, alpha=0.1)\n",
    "    #ax.fill_between(x,y,5, alpha=0.1)\n",
    "\n",
    "    plt.show()\n",
    "\n"
   ]
  },
  {
   "cell_type": "code",
   "execution_count": 0,
   "metadata": {
    "collapsed": false
   },
   "outputs": [
   ],
   "source": [
   ]
  }
 ],
 "metadata": {
  "kernelspec": {
   "display_name": "Python 3 (Ubuntu Linux)",
   "language": "python",
   "name": "python3"
  },
  "language_info": {
   "codemirror_mode": {
    "name": "ipython",
    "version": 3
   },
   "file_extension": ".py",
   "mimetype": "text/x-python",
   "name": "python",
   "nbconvert_exporter": "python",
   "pygments_lexer": "ipython3",
   "version": "3.6.7"
  }
 },
 "nbformat": 4,
 "nbformat_minor": 0
}