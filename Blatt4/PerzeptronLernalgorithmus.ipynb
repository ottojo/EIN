{
 "cells": [
  {
   "cell_type": "markdown",
   "metadata": {
    "collapsed": false
   },
   "source": [
    "# Perzeptron-Lernalgorithmus"
   ]
  },
  {
   "cell_type": "code",
   "execution_count": 353,
   "metadata": {
    "collapsed": false
   },
   "outputs": [
   ],
   "source": [
    "import numpy as np\n",
    "import matplotlib.pyplot as plt\n",
    "import ipywidgets as widgets\n",
    "from ipywidgets import interact\n",
    "from IPython.display import display"
   ]
  },
  {
   "cell_type": "code",
   "execution_count": 354,
   "metadata": {
    "collapsed": false
   },
   "outputs": [
    {
     "data": {
      "text/plain": [
       "(10, 3)"
      ]
     },
     "execution_count": 354,
     "metadata": {
     },
     "output_type": "execute_result"
    }
   ],
   "source": [
    "data = np.array([[-3, 1, -1], [-3, 3, 1], [-2, 1, -1], [-2, 4, 1], [-1, 3, 1],\n",
    "                 [-1, 4, 1], [2, 2, -1], [2, 4, 1], [3, 2, -1], [4, 1, -1]])\n",
    "data.shape"
   ]
  },
  {
   "cell_type": "markdown",
   "metadata": {
    "collapsed": false
   },
   "source": [
    "## Teil 1: Implementierung"
   ]
  },
  {
   "cell_type": "code",
   "execution_count": 355,
   "metadata": {
    "collapsed": false
   },
   "outputs": [
   ],
   "source": [
    "weight_vector = np.zeros(3, dtype=np.float32)\n",
    "weight_vectors = []\n",
    "eta = 1\n",
    "change = True\n",
    "\n",
    "while change:\n",
    "    change = False\n",
    "    for p in data:\n",
    "        d = p[2]\n",
    "        p = np.array([1, p[0], p[1]], dtype=np.float32)\n",
    "        if d == 1 and np.dot(p, weight_vector) < 0:\n",
    "            weight_vector = weight_vector + eta * p\n",
    "            change = True\n",
    "        elif d == -1 and np.dot(p, weight_vector) >= 0:\n",
    "            weight_vector = weight_vector - eta * p\n",
    "            change = True\n",
    "        weight_vectors.append(np.copy(weight_vector))"
   ]
  },
  {
   "cell_type": "markdown",
   "metadata": {
    "collapsed": false
   },
   "source": [
    "## Teil 2: Darstellung"
   ]
  },
  {
   "cell_type": "code",
   "execution_count": 356,
   "metadata": {
    "collapsed": false
   },
   "outputs": [
    {
     "data": {
      "application/vnd.jupyter.widget-view+json": {
       "model_id": "39acd258d41b4c9180a17d5c9be24dd6",
       "version_major": 2,
       "version_minor": 0
      },
      "text/plain": [
       "interactive(children=(IntSlider(value=24, description='step', max=49), Output()), _dom_classes=('widget-intera…"
      ]
     },
     "execution_count": 356,
     "metadata": {
     },
     "output_type": "execute_result"
    }
   ],
   "source": [
    "def g(x, y, w):\n",
    "    p = np.array([1, x, y])\n",
    "    return np.dot(w, p)\n",
    "\n",
    "\n",
    "@interact\n",
    "def plot(step=(0, len(weight_vectors) - 1, 1)):\n",
    "    # setup\n",
    "    plt.style.use('ggplot')\n",
    "    fig = plt.figure(figsize=(10, 10))\n",
    "    ax = fig.add_subplot(111)\n",
    "    ax.set_aspect('equal')\n",
    "    ax.set_xlim(-5, 5)\n",
    "    ax.set_ylim(-5, 5)\n",
    "    ax.set_title(\"Visualisierung linear separierbarer Daten\")\n",
    "    ax.set_xlabel(\"$x_1$\")\n",
    "    ax.set_ylabel(\"$x_2$\")\n",
    "\n",
    "    # data points\n",
    "    ax.scatter(data[:, 0], data[:, 1], c=data[:, 2])\n",
    "\n",
    "    # weight vector\n",
    "    opt = {\n",
    "        'head_width': 0.2,\n",
    "        'head_length': 0.2,\n",
    "        'length_includes_head': True,\n",
    "        'color': 'red'\n",
    "    }\n",
    "    arrow = ax.arrow(0, 0, weight_vectors[step][1], weight_vectors[step][2],\n",
    "                     **opt)\n",
    "\n",
    "    # separation region setup\n",
    "    delta = 0.025\n",
    "    x = np.arange(-5, 5, delta)\n",
    "    y = np.arange(-5, 5, delta)\n",
    "\n",
    "    X, Y = np.meshgrid(x, y)\n",
    "    Z = g(X, Y, weight_vectors[step])\n",
    "\n",
    "    # separation line\n",
    "    ax.contour(X, Y, Z, levels=0, colors='black')\n",
    "\n",
    "    # separation regions\n",
    "    levels = [-100, 0, 100]\n",
    "    regions = ax.contourf(X, Y, Z, levels, extend='both', alpha=0.2)\n",
    "\n",
    "    # current point\n",
    "    plt.scatter(\n",
    "        data[step % len(data)][0],\n",
    "        data[step % len(data)][1],\n",
    "        marker=\"P\",\n",
    "        color=\"black\",\n",
    "        s=500,\n",
    "        label=\"Processed point\")\n",
    "\n",
    "    plt.show()"
   ]
  }
 ],
 "metadata": {
  "kernelspec": {
   "display_name": "Python 3 (Ubuntu Linux)",
   "language": "python",
   "name": "python3"
  },
  "language_info": {
   "codemirror_mode": {
    "name": "ipython",
    "version": 3
   },
   "file_extension": ".py",
   "mimetype": "text/x-python",
   "name": "python",
   "nbconvert_exporter": "python",
   "pygments_lexer": "ipython3",
   "version": "3.6.7"
  }
 },
 "nbformat": 4,
 "nbformat_minor": 0
}